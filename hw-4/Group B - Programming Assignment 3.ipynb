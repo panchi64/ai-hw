{
 "cells": [
  {
   "metadata": {
    "ExecuteTime": {
     "end_time": "2024-04-08T22:57:42.134927Z",
     "start_time": "2024-04-08T22:57:42.132900Z"
    }
   },
   "cell_type": "code",
   "source": [
    "import random\n",
    "import math\n",
    "import time\n",
    "import matplotlib.pyplot as plt"
   ],
   "id": "569b5dbae664498c",
   "outputs": [],
   "execution_count": 58
  },
  {
   "metadata": {
    "ExecuteTime": {
     "end_time": "2024-04-08T22:57:42.182902Z",
     "start_time": "2024-04-08T22:57:42.173290Z"
    }
   },
   "cell_type": "code",
   "source": [
    "# Helper functions\n",
    "\n",
    "def check_puzzle_state(state):\n",
    "    distance = 0\n",
    "    for i in range(3):\n",
    "        for j in range(3):\n",
    "            if state[i][j] != 0:\n",
    "                target_pos = ((state[i][j] - 1) // 3, (state[i][j] - 1) % 3)\n",
    "                distance += abs(i - target_pos[0]) + abs(j - target_pos[1])\n",
    "    return distance\n",
    "\n",
    "\n",
    "def verify_queens_state(state):\n",
    "    def is_attacking(row1, col1, row2, col2):\n",
    "        return (\n",
    "                row1 == row2 or\n",
    "                col1 == col2 or\n",
    "                abs(row1 - row2) == abs(col1 - col2)\n",
    "        )\n",
    "\n",
    "    num_attacking_pairs = 0\n",
    "\n",
    "    for i in range(8):\n",
    "        for j in range(8):\n",
    "            if state[i][j] == 1:\n",
    "                for k in range(i + 1, 8):\n",
    "                    for l in range(8):\n",
    "                        if state[k][l] == 1 and is_attacking(i, j, k, l):\n",
    "                            num_attacking_pairs += 1\n",
    "\n",
    "    return num_attacking_pairs\n"
   ],
   "id": "320dcdeffba00cd1",
   "outputs": [],
   "execution_count": 59
  },
  {
   "metadata": {},
   "cell_type": "markdown",
   "source": [
    "# Problem 4.4\n",
    "\n",
    "## 8 Queens Problem\n",
    "The 8 queens problem is a puzzle of placing eight chess queens on an 8×8 chessboard so that no two queens threaten each other."
   ],
   "id": "72eff809bb453e83"
  },
  {
   "metadata": {
    "ExecuteTime": {
     "end_time": "2024-04-08T22:57:42.186565Z",
     "start_time": "2024-04-08T22:57:42.184091Z"
    }
   },
   "cell_type": "code",
   "source": [
    "def gen_8q_init_state():\n",
    "    state = [[0] * 8 for _ in range(8)]\n",
    "    for col in range(8):\n",
    "        row = random.randint(0, 7)\n",
    "        state[row][col] = 1\n",
    "    return state"
   ],
   "id": "b800bfb43ed5a56a",
   "outputs": [],
   "execution_count": 60
  },
  {
   "metadata": {},
   "cell_type": "markdown",
   "source": [
    "## 8 Puzzle Problem\n",
    "An 8 puzzle is a simple game consisting of a 3x3 grid/matrix. One of the squares is empty. The object is to move squares around into different positions and have the numbers displayed in the \"goal state\"."
   ],
   "id": "6dcf8e7893e35540"
  },
  {
   "metadata": {
    "ExecuteTime": {
     "end_time": "2024-04-08T22:57:42.190492Z",
     "start_time": "2024-04-08T22:57:42.187446Z"
    }
   },
   "cell_type": "code",
   "source": [
    "def gen_8p_init_state():\n",
    "    # Generate a random 8-puzzle state\n",
    "    tiles = list(range(1, 9))  # Tiles from 1 to 8\n",
    "    empty_space = 0  # Empty space represented by 0\n",
    "\n",
    "    # Shuffle the tiles randomly\n",
    "    random.shuffle(tiles)\n",
    "\n",
    "    # Insert the empty space at a random position\n",
    "    empty_position = random.randint(0, 8)\n",
    "    tiles.insert(empty_position, empty_space)\n",
    "\n",
    "    # Create a 3x3 grid representation of the state\n",
    "    state = []\n",
    "    for i in range(0, 9, 3):\n",
    "        row = tiles[i:i + 3]\n",
    "        state.append(row)\n",
    "\n",
    "    return state"
   ],
   "id": "1f0eb60cb1ab3b2e",
   "outputs": [],
   "execution_count": 61
  },
  {
   "metadata": {},
   "cell_type": "markdown",
   "source": "#### Hill Climbing - Steepest Ascent",
   "id": "96c0f22f4887d460"
  },
  {
   "metadata": {
    "ExecuteTime": {
     "end_time": "2024-04-08T22:57:42.198811Z",
     "start_time": "2024-04-08T22:57:42.192005Z"
    }
   },
   "cell_type": "code",
   "source": [
    "def hc_sa_8_puzzle(initial_state):\n",
    "    def get_neighbors(state):\n",
    "        neighbors = []\n",
    "        empty_pos = None\n",
    "        for i in range(3):\n",
    "            for j in range(3):\n",
    "                if state[i][j] == 0:\n",
    "                    empty_pos = (i, j)\n",
    "                    break\n",
    "            if empty_pos:\n",
    "                break\n",
    "\n",
    "        moves = [(0, 1), (0, -1), (1, 0), (-1, 0)]  # Right, Left, Down, Up\n",
    "        for move in moves:\n",
    "            new_pos = (empty_pos[0] + move[0], empty_pos[1] + move[1])\n",
    "            if 0 <= new_pos[0] < 3 and 0 <= new_pos[1] < 3:\n",
    "                new_state = [row[:] for row in state]\n",
    "                new_state[empty_pos[0]][empty_pos[1]], new_state[new_pos[0]][new_pos[1]] = new_state[new_pos[0]][\n",
    "                    new_pos[1]], new_state[empty_pos[0]][empty_pos[1]]\n",
    "                neighbors.append(new_state)\n",
    "\n",
    "        return neighbors\n",
    "\n",
    "    current_state = initial_state\n",
    "    while True:\n",
    "        neighbors = get_neighbors(current_state)\n",
    "        best_neighbor = min(neighbors, key=check_puzzle_state)\n",
    "        if check_puzzle_state(best_neighbor) >= check_puzzle_state(current_state):\n",
    "            return current_state\n",
    "        current_state = best_neighbor\n",
    "\n",
    "\n",
    "def hc_sa_8_queens(initial_state):\n",
    "    def get_neighbors(state):\n",
    "        neighbors = []\n",
    "        for i in range(8):\n",
    "            for j in range(8):\n",
    "                if state[i][j] == 1:\n",
    "                    for k in range(8):\n",
    "                        if k != i:\n",
    "                            new_state = [row[:] for row in state]\n",
    "                            new_state[i][j], new_state[k][j] = 0, 1\n",
    "                            neighbors.append(new_state)\n",
    "        return neighbors\n",
    "\n",
    "    current_state = initial_state\n",
    "    while True:\n",
    "        neighbors = get_neighbors(current_state)\n",
    "        if not neighbors:\n",
    "            return current_state  # Return current state if no neighbors are found\n",
    "        best_neighbor = min(neighbors, key=verify_queens_state)\n",
    "        if verify_queens_state(best_neighbor) >= verify_queens_state(current_state):\n",
    "            return current_state\n",
    "        current_state = best_neighbor"
   ],
   "id": "7e4de7fafc9f1b9f",
   "outputs": [],
   "execution_count": 62
  },
  {
   "metadata": {},
   "cell_type": "markdown",
   "source": "#### Hill Climbing - First Choice",
   "id": "3213ff67aa092c2b"
  },
  {
   "metadata": {
    "ExecuteTime": {
     "end_time": "2024-04-08T22:57:42.204825Z",
     "start_time": "2024-04-08T22:57:42.199751Z"
    }
   },
   "cell_type": "code",
   "source": [
    "def hc_fc_8_puzzle(initial_state):\n",
    "    def get_neighbors(state):\n",
    "        neighbors = []\n",
    "        empty_pos = None\n",
    "        for i in range(3):\n",
    "            for j in range(3):\n",
    "                if state[i][j] == 0:\n",
    "                    empty_pos = (i, j)\n",
    "                    break\n",
    "            if empty_pos:\n",
    "                break\n",
    "\n",
    "        moves = [(0, 1), (0, -1), (1, 0), (-1, 0)]  # Right, Left, Down, Up\n",
    "        for move in moves:\n",
    "            new_pos = (empty_pos[0] + move[0], empty_pos[1] + move[1])\n",
    "            if 0 <= new_pos[0] < 3 and 0 <= new_pos[1] < 3:\n",
    "                new_state = [row[:] for row in state]\n",
    "                new_state[empty_pos[0]][empty_pos[1]], new_state[new_pos[0]][new_pos[1]] = new_state[new_pos[0]][\n",
    "                    new_pos[1]], new_state[empty_pos[0]][empty_pos[1]]\n",
    "                neighbors.append(new_state)\n",
    "\n",
    "        return neighbors\n",
    "\n",
    "    current_state = initial_state\n",
    "    while True:\n",
    "        neighbors = get_neighbors(current_state)\n",
    "        improved_neighbor = None\n",
    "        for neighbor in neighbors:\n",
    "            if check_puzzle_state(neighbor) < check_puzzle_state(current_state):\n",
    "                improved_neighbor = neighbor\n",
    "                break\n",
    "\n",
    "        if improved_neighbor is None:\n",
    "            return current_state\n",
    "        current_state = improved_neighbor\n",
    "\n",
    "\n",
    "def hc_fc_8_queens(initial_state):\n",
    "    def get_neighbors(state):\n",
    "        neighbors = []\n",
    "        for i in range(8):\n",
    "            for j in range(8):\n",
    "                if state[i][j] == 1:\n",
    "                    for k in range(8):\n",
    "                        if k != j:\n",
    "                            new_state = [row[:] for row in state]\n",
    "                            new_state[i][j], new_state[i][k] = 0, 1\n",
    "                            neighbors.append(new_state)\n",
    "        return neighbors\n",
    "\n",
    "    current_state = initial_state\n",
    "    while True:\n",
    "        neighbors = get_neighbors(current_state)\n",
    "        improved_neighbor = None\n",
    "        for neighbor in neighbors:\n",
    "            if verify_queens_state(neighbor) < verify_queens_state(current_state):\n",
    "                improved_neighbor = neighbor\n",
    "                break\n",
    "\n",
    "        if improved_neighbor is None:\n",
    "            return current_state\n",
    "        current_state = improved_neighbor"
   ],
   "id": "c8cf55e7e76cb312",
   "outputs": [],
   "execution_count": 63
  },
  {
   "metadata": {},
   "cell_type": "markdown",
   "source": "#### Hill Climbing - Random Restart",
   "id": "a47095a549dd1906"
  },
  {
   "metadata": {
    "ExecuteTime": {
     "end_time": "2024-04-08T22:57:42.213055Z",
     "start_time": "2024-04-08T22:57:42.205734Z"
    }
   },
   "cell_type": "code",
   "source": [
    "def hc_rr_8_puzzle(initial_state, max_restarts):\n",
    "    def get_neighbors(state):\n",
    "        neighbors = []\n",
    "        empty_pos = None\n",
    "        for i in range(3):\n",
    "            for j in range(3):\n",
    "                if state[i][j] == 0:\n",
    "                    empty_pos = (i, j)\n",
    "                    break\n",
    "            if empty_pos:\n",
    "                break\n",
    "\n",
    "        moves = [(0, 1), (0, -1), (1, 0), (-1, 0)]  # Right, Left, Down, Up\n",
    "        for move in moves:\n",
    "            new_pos = (empty_pos[0] + move[0], empty_pos[1] + move[1])\n",
    "            if 0 <= new_pos[0] < 3 and 0 <= new_pos[1] < 3:\n",
    "                new_state = [row[:] for row in state]\n",
    "                new_state[empty_pos[0]][empty_pos[1]], new_state[new_pos[0]][new_pos[1]] = new_state[new_pos[0]][\n",
    "                    new_pos[1]], new_state[empty_pos[0]][empty_pos[1]]\n",
    "                neighbors.append(new_state)\n",
    "\n",
    "        return neighbors\n",
    "\n",
    "    def hill_climbing_search(state):\n",
    "        current_state = state\n",
    "        while True:\n",
    "            neighbors = get_neighbors(current_state)\n",
    "            best_neighbor = min(neighbors, key=check_puzzle_state)\n",
    "            if check_puzzle_state(best_neighbor) >= check_puzzle_state(current_state):\n",
    "                return current_state\n",
    "            current_state = best_neighbor\n",
    "\n",
    "    best_solution = hill_climbing_search(initial_state)\n",
    "    best_solution_score = check_puzzle_state(best_solution)\n",
    "\n",
    "    for _ in range(max_restarts):\n",
    "        random_state = gen_8p_init_state()\n",
    "        solution = hill_climbing_search(random_state)\n",
    "        solution_score = check_puzzle_state(solution)\n",
    "        if solution_score < best_solution_score:\n",
    "            best_solution = solution\n",
    "            best_solution_score = solution_score\n",
    "\n",
    "    return best_solution\n",
    "\n",
    "\n",
    "def hc_rr_8_queens(initial_state, max_restarts):\n",
    "    def get_neighbors(state):\n",
    "        neighbors = []\n",
    "        for i in range(8):\n",
    "            for j in range(8):\n",
    "                if state[i][j] == 1:\n",
    "                    for k in range(8):\n",
    "                        if k != j:\n",
    "                            new_state = [row[:] for row in state]\n",
    "                            new_state[i][j], new_state[i][k] = 0, 1\n",
    "                            neighbors.append(new_state)\n",
    "        return neighbors\n",
    "\n",
    "    def hill_climbing_search(state):\n",
    "        current_state = state\n",
    "        while True:\n",
    "            neighbors = get_neighbors(current_state)\n",
    "            if not neighbors:\n",
    "                return current_state  # Return current state if no neighbors are found\n",
    "            best_neighbor = min(neighbors, key=verify_queens_state)\n",
    "            if verify_queens_state(best_neighbor) >= verify_queens_state(current_state):\n",
    "                return current_state\n",
    "            current_state = best_neighbor\n",
    "\n",
    "    best_solution = hill_climbing_search(initial_state)\n",
    "    best_solution_score = verify_queens_state(best_solution)\n",
    "\n",
    "    for _ in range(max_restarts):\n",
    "        random_state = gen_8q_init_state()\n",
    "        solution = hill_climbing_search(random_state)\n",
    "        solution_score = verify_queens_state(solution)\n",
    "        if solution_score < best_solution_score:\n",
    "            best_solution = solution\n",
    "            best_solution_score = solution_score\n",
    "\n",
    "    return best_solution"
   ],
   "id": "386227595fb60ff5",
   "outputs": [],
   "execution_count": 64
  },
  {
   "metadata": {},
   "cell_type": "markdown",
   "source": "#### Simulated Annealing",
   "id": "ac0b30f22199190a"
  },
  {
   "metadata": {
    "ExecuteTime": {
     "end_time": "2024-04-08T22:57:42.220798Z",
     "start_time": "2024-04-08T22:57:42.214549Z"
    }
   },
   "cell_type": "code",
   "source": [
    "def sa_8_puzzle(initial_state, initial_temperature, cooling_rate, max_iterations):\n",
    "    def get_neighbors(state):\n",
    "        neighbors = []\n",
    "        empty_pos = None\n",
    "        for i in range(3):\n",
    "            for j in range(3):\n",
    "                if state[i][j] == 0:\n",
    "                    empty_pos = (i, j)\n",
    "                    break\n",
    "            if empty_pos:\n",
    "                break\n",
    "\n",
    "        moves = [(0, 1), (0, -1), (1, 0), (-1, 0)]  # Right, Left, Down, Up\n",
    "        for move in moves:\n",
    "            new_pos = (empty_pos[0] + move[0], empty_pos[1] + move[1])\n",
    "            if 0 <= new_pos[0] < 3 and 0 <= new_pos[1] < 3:\n",
    "                new_state = [row[:] for row in state]\n",
    "                new_state[empty_pos[0]][empty_pos[1]], new_state[new_pos[0]][new_pos[1]] = new_state[new_pos[0]][\n",
    "                    new_pos[1]], new_state[empty_pos[0]][empty_pos[1]]\n",
    "                neighbors.append(new_state)\n",
    "\n",
    "        return neighbors\n",
    "\n",
    "    current_state = initial_state\n",
    "    current_temperature = initial_temperature\n",
    "\n",
    "    for _ in range(max_iterations):\n",
    "        if current_temperature <= 0:\n",
    "            break\n",
    "\n",
    "        neighbors = get_neighbors(current_state)\n",
    "        if not neighbors:\n",
    "            break\n",
    "\n",
    "        next_state = random.choice(neighbors)\n",
    "        delta_energy = check_puzzle_state(next_state) - check_puzzle_state(current_state)\n",
    "\n",
    "        if delta_energy < 0 or random.random() < math.exp(-delta_energy / current_temperature):\n",
    "            current_state = next_state\n",
    "\n",
    "        current_temperature *= cooling_rate\n",
    "\n",
    "    return current_state\n",
    "\n",
    "\n",
    "def sa_8_queens(initial_state, initial_temperature, cooling_rate, max_iterations):\n",
    "    def get_neighbors(state):\n",
    "        neighbors = []\n",
    "        for i in range(8):\n",
    "            for j in range(8):\n",
    "                if state[i][j] == 1:\n",
    "                    for k in range(8):\n",
    "                        if k != j:\n",
    "                            new_state = [row[:] for row in state]\n",
    "                            new_state[i][j], new_state[i][k] = 0, 1\n",
    "                            neighbors.append(new_state)\n",
    "        return neighbors\n",
    "\n",
    "    current_state = initial_state\n",
    "    current_temperature = initial_temperature\n",
    "\n",
    "    for _ in range(max_iterations):\n",
    "        if current_temperature <= 0:\n",
    "            break\n",
    "\n",
    "        neighbors = get_neighbors(current_state)\n",
    "        if not neighbors:\n",
    "            break\n",
    "\n",
    "        next_state = random.choice(neighbors)\n",
    "        delta_energy = verify_queens_state(next_state) - verify_queens_state(current_state)\n",
    "\n",
    "        if delta_energy < 0 or random.random() < math.exp(-delta_energy / current_temperature):\n",
    "            current_state = next_state\n",
    "\n",
    "        current_temperature *= cooling_rate\n",
    "\n",
    "    return current_state"
   ],
   "id": "a141fe59bca3dd39",
   "outputs": [],
   "execution_count": 65
  },
  {
   "metadata": {},
   "cell_type": "markdown",
   "source": "#### Optimal Solution - Queens",
   "id": "482b12d03dade9ed"
  },
  {
   "metadata": {
    "ExecuteTime": {
     "end_time": "2024-04-08T22:57:42.237778Z",
     "start_time": "2024-04-08T22:57:42.236062Z"
    }
   },
   "cell_type": "code",
   "source": "",
   "id": "4403a64d01117197",
   "outputs": [],
   "execution_count": 65
  },
  {
   "metadata": {},
   "cell_type": "markdown",
   "source": "#### Optimal Solution - 8 Puzzle",
   "id": "fe05146244489a0d"
  },
  {
   "metadata": {
    "ExecuteTime": {
     "end_time": "2024-04-08T22:57:42.241435Z",
     "start_time": "2024-04-08T22:57:42.239976Z"
    }
   },
   "cell_type": "code",
   "source": "",
   "id": "ea452306e11596dd",
   "outputs": [],
   "execution_count": 65
  },
  {
   "metadata": {},
   "cell_type": "markdown",
   "source": "### Search Cost",
   "id": "64b93eb947e1303c"
  },
  {
   "metadata": {
    "ExecuteTime": {
     "end_time": "2024-04-08T23:35:59.434623Z",
     "start_time": "2024-04-08T23:35:52.003497Z"
    }
   },
   "cell_type": "code",
   "source": [
    "def visualize_search_costs(results):\n",
    "    fig, axes = plt.subplots(nrows=2, ncols=2, figsize=(12, 10))\n",
    "\n",
    "    for i, problem in enumerate([\"8-Puzzle\", \"8-Queens\"]):\n",
    "        search_costs_plot = axes[i][0]\n",
    "        solved_problems_plot = axes[i][1]\n",
    "\n",
    "        search_costs_data = []\n",
    "        labels = []\n",
    "\n",
    "        for algorithm_name, (search_costs, _) in results.items():\n",
    "            if problem in algorithm_name:\n",
    "                search_costs_data.append(search_costs)\n",
    "                labels.append(algorithm_name)\n",
    "\n",
    "        search_costs_plot.boxplot(search_costs_data, labels=labels)\n",
    "        search_costs_plot.set_title(f\"{problem} Search Cost Comparison\")\n",
    "        search_costs_plot.set_xlabel(\"Algorithm\")\n",
    "        search_costs_plot.set_ylabel(\"Search Cost\")\n",
    "\n",
    "        solved_problems_data = []\n",
    "        for algorithm_name, (search_costs, _) in results.items():\n",
    "            if problem in algorithm_name:\n",
    "                solved_problems_count = sum(cost == 0 for cost in search_costs)\n",
    "                solved_problems_percentage = (solved_problems_count / len(search_costs)) * 100\n",
    "                solved_problems_data.append(solved_problems_percentage)\n",
    "\n",
    "        solved_problems_plot.bar(labels, solved_problems_data)\n",
    "        solved_problems_plot.set_title(f\"{problem} Solved Problems\")\n",
    "        solved_problems_plot.set_xlabel(\"Algorithm\")\n",
    "        solved_problems_plot.set_ylabel(\"Percentage of Solved Problems\")\n",
    "\n",
    "    plt.tight_layout()\n",
    "    plt.show()\n",
    "\n",
    "\n",
    "def compare_algorithms(num_instances=1000, max_restarts=15, initial_temperature=5, cooling_rate=1,\n",
    "                       max_iterations=1000):\n",
    "    algorithms = [\n",
    "        (\"8-Puzzle HC Steepest Ascent\", hc_sa_8_puzzle),\n",
    "        (\"8-Puzzle HC First Choice\", hc_fc_8_puzzle),\n",
    "        (\"8-Puzzle HC Random Restart\", hc_rr_8_puzzle),\n",
    "        (\"8-Puzzle Simulated Annealing\", sa_8_puzzle),\n",
    "        (\"8-Queens HC Steepest Ascent\", hc_sa_8_queens),\n",
    "        (\"8-Queens HC First Choice\", hc_fc_8_queens),\n",
    "        (\"8-Queens HC Random Restart\", hc_rr_8_queens),\n",
    "        (\"8-Queens Simulated Annealing\", sa_8_queens)\n",
    "    ]\n",
    "\n",
    "    results = {}\n",
    "    for algorithm_name, algorithm_func in algorithms:\n",
    "        search_costs = []\n",
    "        execution_times = []\n",
    "        for _ in range(num_instances):\n",
    "            if \"8-Puzzle\" in algorithm_name:\n",
    "                initial_state = gen_8p_init_state()\n",
    "                check_state = check_puzzle_state\n",
    "            else:\n",
    "                initial_state = gen_8q_init_state()\n",
    "                check_state = verify_queens_state\n",
    "\n",
    "            start_time = time.time()\n",
    "            if \"Random Restart\" in algorithm_name:\n",
    "                solution = algorithm_func(initial_state, max_restarts)\n",
    "            elif \"Simulated Annealing\" in algorithm_name:\n",
    "                solution = algorithm_func(initial_state, initial_temperature, cooling_rate, max_iterations)\n",
    "            else:\n",
    "                solution = algorithm_func(initial_state)\n",
    "            end_time = time.time()\n",
    "            search_cost = check_state(solution)\n",
    "            search_costs.append(search_cost)\n",
    "            execution_times.append(end_time - start_time)\n",
    "        results[algorithm_name] = (search_costs, execution_times)\n",
    "\n",
    "    visualize_search_costs(results)\n",
    "\n",
    "if __name__ == \"__main__\":\n",
    "    compare_algorithms()"
   ],
   "id": "decb9c65caa2b1ba",
   "outputs": [
    {
     "data": {
      "text/plain": [
       "<Figure size 1200x1000 with 4 Axes>"
      ],
      "image/png": "[encoded data removed]"
     },
     "metadata": {},
     "output_type": "display_data"
    }
   ],
   "execution_count": 78
  },
  {
   "metadata": {},
   "cell_type": "markdown",
   "source": "### Percentage of Solved Problems",
   "id": "873c82c2d8418196"
  },
  {
   "metadata": {
    "ExecuteTime": {
     "end_time": "2024-04-08T22:58:51.209741Z",
     "start_time": "2024-04-08T22:58:51.208250Z"
    }
   },
   "cell_type": "code",
   "source": "",
   "id": "a836fc79a8866162",
   "outputs": [],
   "execution_count": 66
  },
  {
   "metadata": {},
   "cell_type": "markdown",
   "source": "### All options vs. Optimal Solution - Comparison",
   "id": "922842d97420b4e5"
  },
  {
   "metadata": {
    "ExecuteTime": {
     "end_time": "2024-04-08T22:58:51.211804Z",
     "start_time": "2024-04-08T22:58:51.210412Z"
    }
   },
   "cell_type": "code",
   "source": "",
   "id": "802b359df9837961",
   "outputs": [],
   "execution_count": 66
  }
 ],
 "metadata": {
  "kernelspec": {
   "display_name": "Python 3",
   "language": "python",
   "name": "python3"
  },
  "language_info": {
   "codemirror_mode": {
    "name": "ipython",
    "version": 2
   },
   "file_extension": ".py",
   "mimetype": "text/x-python",
   "name": "python",
   "nbconvert_exporter": "python",
   "pygments_lexer": "ipython2",
   "version": "2.7.6"
  }
 },
 "nbformat": 4,
 "nbformat_minor": 5
}
