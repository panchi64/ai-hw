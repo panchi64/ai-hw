{
 "cells": [
  {
   "cell_type": "code",
   "execution_count": 77,
   "id": "569b5dbae664498c",
   "metadata": {
    "ExecuteTime": {
     "end_time": "2024-04-08T23:54:02.156749Z",
     "start_time": "2024-04-08T23:54:02.154766Z"
    }
   },
   "outputs": [],
   "source": [
    "import random\n",
    "import math\n",
    "import time\n",
    "import matplotlib.pyplot as plt"
   ]
  },
  {
   "cell_type": "code",
   "execution_count": 78,
   "id": "320dcdeffba00cd1",
   "metadata": {
    "ExecuteTime": {
     "end_time": "2024-04-08T23:54:02.230696Z",
     "start_time": "2024-04-08T23:54:02.226558Z"
    }
   },
   "outputs": [],
   "source": [
    "# Helper functions\n",
    "\n",
    "def check_puzzle_state(state):\n",
    "    distance = 0\n",
    "    for i in range(3):\n",
    "        for j in range(3):\n",
    "            if state[i][j] != 0:\n",
    "                target_pos = ((state[i][j] - 1) // 3, (state[i][j] - 1) % 3)\n",
    "                distance += abs(i - target_pos[0]) + abs(j - target_pos[1])\n",
    "    return distance\n",
    "\n",
    "\n",
    "def verify_queens_state(state):\n",
    "    def is_attacking(row1, col1, row2, col2):\n",
    "        return (\n",
    "                row1 == row2 or\n",
    "                col1 == col2 or\n",
    "                abs(row1 - row2) == abs(col1 - col2)\n",
    "        )\n",
    "\n",
    "    num_attacking_pairs = 0\n",
    "\n",
    "    for i in range(8):\n",
    "        for j in range(8):\n",
    "            if state[i][j] == 1:\n",
    "                for k in range(i + 1, 8):\n",
    "                    for l in range(8):\n",
    "                        if state[k][l] == 1 and is_attacking(i, j, k, l):\n",
    "                            num_attacking_pairs += 1\n",
    "\n",
    "    return num_attacking_pairs\n"
   ]
  },
  {
   "cell_type": "markdown",
   "id": "72eff809bb453e83",
   "metadata": {},
   "source": [
    "# Problem 4.4\n",
    "\n",
    "## 8 Queens Problem\n",
    "The 8 queens problem is a puzzle of placing eight chess queens on an 8×8 chessboard so that no two queens threaten each other."
   ]
  },
  {
   "cell_type": "code",
   "execution_count": 79,
   "id": "b800bfb43ed5a56a",
   "metadata": {
    "ExecuteTime": {
     "end_time": "2024-04-08T23:54:02.235601Z",
     "start_time": "2024-04-08T23:54:02.233532Z"
    }
   },
   "outputs": [],
   "source": [
    "def gen_8q_init_state():\n",
    "    state = [[0] * 8 for _ in range(8)]\n",
    "    for col in range(8):\n",
    "        row = random.randint(0, 7)\n",
    "        state[row][col] = 1\n",
    "    return state"
   ]
  },
  {
   "cell_type": "markdown",
   "id": "6dcf8e7893e35540",
   "metadata": {},
   "source": [
    "## 8 Puzzle Problem\n",
    "An 8 puzzle is a simple game consisting of a 3x3 grid/matrix. One of the squares is empty. The object is to move squares around into different positions and have the numbers displayed in the \"goal state\"."
   ]
  },
  {
   "cell_type": "code",
   "execution_count": 80,
   "id": "1f0eb60cb1ab3b2e",
   "metadata": {
    "ExecuteTime": {
     "end_time": "2024-04-08T23:54:02.239071Z",
     "start_time": "2024-04-08T23:54:02.236470Z"
    }
   },
   "outputs": [],
   "source": [
    "def gen_8p_init_state():\n",
    "    # Generate a random 8-puzzle state\n",
    "    tiles = list(range(1, 9))  # Tiles from 1 to 8\n",
    "    empty_space = 0  # Empty space represented by 0\n",
    "\n",
    "    # Shuffle the tiles randomly\n",
    "    random.shuffle(tiles)\n",
    "\n",
    "    # Insert the empty space at a random position\n",
    "    empty_position = random.randint(0, 8)\n",
    "    tiles.insert(empty_position, empty_space)\n",
    "\n",
    "    # Create a 3x3 grid representation of the state\n",
    "    state = []\n",
    "    for i in range(0, 9, 3):\n",
    "        row = tiles[i:i + 3]\n",
    "        state.append(row)\n",
    "\n",
    "    return state"
   ]
  },
  {
   "cell_type": "markdown",
   "id": "96c0f22f4887d460",
   "metadata": {},
   "source": [
    "#### Hill Climbing - Steepest Ascent"
   ]
  },
  {
   "cell_type": "code",
   "execution_count": 81,
   "id": "7e4de7fafc9f1b9f",
   "metadata": {
    "ExecuteTime": {
     "end_time": "2024-04-08T23:54:02.255123Z",
     "start_time": "2024-04-08T23:54:02.250026Z"
    }
   },
   "outputs": [],
   "source": [
    "def hc_sa_8_puzzle(initial_state):\n",
    "    def get_neighbors(state):\n",
    "        neighbors = []\n",
    "        empty_pos = None\n",
    "        for i in range(3):\n",
    "            for j in range(3):\n",
    "                if state[i][j] == 0:\n",
    "                    empty_pos = (i, j)\n",
    "                    break\n",
    "            if empty_pos:\n",
    "                break\n",
    "\n",
    "        moves = [(0, 1), (0, -1), (1, 0), (-1, 0)]  # Right, Left, Down, Up\n",
    "        for move in moves:\n",
    "            new_pos = (empty_pos[0] + move[0], empty_pos[1] + move[1])\n",
    "            if 0 <= new_pos[0] < 3 and 0 <= new_pos[1] < 3:\n",
    "                new_state = [row[:] for row in state]\n",
    "                new_state[empty_pos[0]][empty_pos[1]], new_state[new_pos[0]][new_pos[1]] = new_state[new_pos[0]][\n",
    "                    new_pos[1]], new_state[empty_pos[0]][empty_pos[1]]\n",
    "                neighbors.append(new_state)\n",
    "\n",
    "        return neighbors\n",
    "\n",
    "    current_state = initial_state\n",
    "    while True:\n",
    "        neighbors = get_neighbors(current_state)\n",
    "        best_neighbor = min(neighbors, key=check_puzzle_state)\n",
    "        if check_puzzle_state(best_neighbor) >= check_puzzle_state(current_state):\n",
    "            return current_state\n",
    "        current_state = best_neighbor\n",
    "\n",
    "\n",
    "def hc_sa_8_queens(initial_state):\n",
    "    def get_neighbors(state):\n",
    "        neighbors = []\n",
    "        for i in range(8):\n",
    "            for j in range(8):\n",
    "                if state[i][j] == 1:\n",
    "                    for k in range(8):\n",
    "                        if k != i:\n",
    "                            new_state = [row[:] for row in state]\n",
    "                            new_state[i][j], new_state[k][j] = 0, 1\n",
    "                            neighbors.append(new_state)\n",
    "        return neighbors\n",
    "\n",
    "    current_state = initial_state\n",
    "    while True:\n",
    "        neighbors = get_neighbors(current_state)\n",
    "        if not neighbors:\n",
    "            return current_state  # Return current state if no neighbors are found\n",
    "        best_neighbor = min(neighbors, key=verify_queens_state)\n",
    "        if verify_queens_state(best_neighbor) >= verify_queens_state(current_state):\n",
    "            return current_state\n",
    "        current_state = best_neighbor"
   ]
  },
  {
   "cell_type": "markdown",
   "id": "3213ff67aa092c2b",
   "metadata": {},
   "source": [
    "#### Hill Climbing - First Choice"
   ]
  },
  {
   "cell_type": "code",
   "execution_count": 82,
   "id": "c8cf55e7e76cb312",
   "metadata": {
    "ExecuteTime": {
     "end_time": "2024-04-08T23:54:02.264154Z",
     "start_time": "2024-04-08T23:54:02.258383Z"
    }
   },
   "outputs": [],
   "source": [
    "def hc_fc_8_puzzle(initial_state):\n",
    "    def get_neighbors(state):\n",
    "        neighbors = []\n",
    "        empty_pos = None\n",
    "        for i in range(3):\n",
    "            for j in range(3):\n",
    "                if state[i][j] == 0:\n",
    "                    empty_pos = (i, j)\n",
    "                    break\n",
    "            if empty_pos:\n",
    "                break\n",
    "\n",
    "        moves = [(0, 1), (0, -1), (1, 0), (-1, 0)]  # Right, Left, Down, Up\n",
    "        for move in moves:\n",
    "            new_pos = (empty_pos[0] + move[0], empty_pos[1] + move[1])\n",
    "            if 0 <= new_pos[0] < 3 and 0 <= new_pos[1] < 3:\n",
    "                new_state = [row[:] for row in state]\n",
    "                new_state[empty_pos[0]][empty_pos[1]], new_state[new_pos[0]][new_pos[1]] = new_state[new_pos[0]][\n",
    "                    new_pos[1]], new_state[empty_pos[0]][empty_pos[1]]\n",
    "                neighbors.append(new_state)\n",
    "\n",
    "        return neighbors\n",
    "\n",
    "    current_state = initial_state\n",
    "    while True:\n",
    "        neighbors = get_neighbors(current_state)\n",
    "        improved_neighbor = None\n",
    "        for neighbor in neighbors:\n",
    "            if check_puzzle_state(neighbor) < check_puzzle_state(current_state):\n",
    "                improved_neighbor = neighbor\n",
    "                break\n",
    "\n",
    "        if improved_neighbor is None:\n",
    "            return current_state\n",
    "        current_state = improved_neighbor\n",
    "\n",
    "\n",
    "def hc_fc_8_queens(initial_state):\n",
    "    def get_neighbors(state):\n",
    "        neighbors = []\n",
    "        for i in range(8):\n",
    "            for j in range(8):\n",
    "                if state[i][j] == 1:\n",
    "                    for k in range(8):\n",
    "                        if k != j:\n",
    "                            new_state = [row[:] for row in state]\n",
    "                            new_state[i][j], new_state[i][k] = 0, 1\n",
    "                            neighbors.append(new_state)\n",
    "        return neighbors\n",
    "\n",
    "    current_state = initial_state\n",
    "    while True:\n",
    "        neighbors = get_neighbors(current_state)\n",
    "        improved_neighbor = None\n",
    "        for neighbor in neighbors:\n",
    "            if verify_queens_state(neighbor) < verify_queens_state(current_state):\n",
    "                improved_neighbor = neighbor\n",
    "                break\n",
    "\n",
    "        if improved_neighbor is None:\n",
    "            return current_state\n",
    "        current_state = improved_neighbor"
   ]
  },
  {
   "cell_type": "markdown",
   "id": "a47095a549dd1906",
   "metadata": {},
   "source": [
    "#### Hill Climbing - Random Restart"
   ]
  },
  {
   "cell_type": "code",
   "execution_count": 83,
   "id": "386227595fb60ff5",
   "metadata": {
    "ExecuteTime": {
     "end_time": "2024-04-08T23:54:02.271115Z",
     "start_time": "2024-04-08T23:54:02.265096Z"
    }
   },
   "outputs": [],
   "source": [
    "def hc_rr_8_puzzle(initial_state, max_restarts):\n",
    "    def get_neighbors(state):\n",
    "        neighbors = []\n",
    "        empty_pos = None\n",
    "        for i in range(3):\n",
    "            for j in range(3):\n",
    "                if state[i][j] == 0:\n",
    "                    empty_pos = (i, j)\n",
    "                    break\n",
    "            if empty_pos:\n",
    "                break\n",
    "\n",
    "        moves = [(0, 1), (0, -1), (1, 0), (-1, 0)]  # Right, Left, Down, Up\n",
    "        for move in moves:\n",
    "            new_pos = (empty_pos[0] + move[0], empty_pos[1] + move[1])\n",
    "            if 0 <= new_pos[0] < 3 and 0 <= new_pos[1] < 3:\n",
    "                new_state = [row[:] for row in state]\n",
    "                new_state[empty_pos[0]][empty_pos[1]], new_state[new_pos[0]][new_pos[1]] = new_state[new_pos[0]][\n",
    "                    new_pos[1]], new_state[empty_pos[0]][empty_pos[1]]\n",
    "                neighbors.append(new_state)\n",
    "\n",
    "        return neighbors\n",
    "\n",
    "    def hill_climbing_search(state):\n",
    "        current_state = state\n",
    "        while True:\n",
    "            neighbors = get_neighbors(current_state)\n",
    "            best_neighbor = min(neighbors, key=check_puzzle_state)\n",
    "            if check_puzzle_state(best_neighbor) >= check_puzzle_state(current_state):\n",
    "                return current_state\n",
    "            current_state = best_neighbor\n",
    "\n",
    "    best_solution = hill_climbing_search(initial_state)\n",
    "    best_solution_score = check_puzzle_state(best_solution)\n",
    "\n",
    "    for _ in range(max_restarts):\n",
    "        random_state = gen_8p_init_state()\n",
    "        solution = hill_climbing_search(random_state)\n",
    "        solution_score = check_puzzle_state(solution)\n",
    "        if solution_score < best_solution_score:\n",
    "            best_solution = solution\n",
    "            best_solution_score = solution_score\n",
    "\n",
    "    return best_solution\n",
    "\n",
    "\n",
    "def hc_rr_8_queens(initial_state, max_restarts):\n",
    "    def get_neighbors(state):\n",
    "        neighbors = []\n",
    "        for i in range(8):\n",
    "            for j in range(8):\n",
    "                if state[i][j] == 1:\n",
    "                    for k in range(8):\n",
    "                        if k != j:\n",
    "                            new_state = [row[:] for row in state]\n",
    "                            new_state[i][j], new_state[i][k] = 0, 1\n",
    "                            neighbors.append(new_state)\n",
    "        return neighbors\n",
    "\n",
    "    def hill_climbing_search(state):\n",
    "        current_state = state\n",
    "        while True:\n",
    "            neighbors = get_neighbors(current_state)\n",
    "            if not neighbors:\n",
    "                return current_state  # Return current state if no neighbors are found\n",
    "            best_neighbor = min(neighbors, key=verify_queens_state)\n",
    "            if verify_queens_state(best_neighbor) >= verify_queens_state(current_state):\n",
    "                return current_state\n",
    "            current_state = best_neighbor\n",
    "\n",
    "    best_solution = hill_climbing_search(initial_state)\n",
    "    best_solution_score = verify_queens_state(best_solution)\n",
    "\n",
    "    for _ in range(max_restarts):\n",
    "        random_state = gen_8q_init_state()\n",
    "        solution = hill_climbing_search(random_state)\n",
    "        solution_score = verify_queens_state(solution)\n",
    "        if solution_score < best_solution_score:\n",
    "            best_solution = solution\n",
    "            best_solution_score = solution_score\n",
    "\n",
    "    return best_solution"
   ]
  },
  {
   "cell_type": "markdown",
   "id": "ac0b30f22199190a",
   "metadata": {},
   "source": [
    "#### Simulated Annealing"
   ]
  },
  {
   "cell_type": "code",
   "execution_count": 84,
   "id": "a141fe59bca3dd39",
   "metadata": {
    "ExecuteTime": {
     "end_time": "2024-04-08T23:54:02.278581Z",
     "start_time": "2024-04-08T23:54:02.272Z"
    }
   },
   "outputs": [],
   "source": [
    "def sa_8_puzzle(initial_state, initial_temperature, cooling_rate, max_iterations):\n",
    "    def get_neighbors(state):\n",
    "        neighbors = []\n",
    "        empty_pos = None\n",
    "        for i in range(3):\n",
    "            for j in range(3):\n",
    "                if state[i][j] == 0:\n",
    "                    empty_pos = (i, j)\n",
    "                    break\n",
    "            if empty_pos:\n",
    "                break\n",
    "\n",
    "        moves = [(0, 1), (0, -1), (1, 0), (-1, 0)]  # Right, Left, Down, Up\n",
    "        for move in moves:\n",
    "            new_pos = (empty_pos[0] + move[0], empty_pos[1] + move[1])\n",
    "            if 0 <= new_pos[0] < 3 and 0 <= new_pos[1] < 3:\n",
    "                new_state = [row[:] for row in state]\n",
    "                new_state[empty_pos[0]][empty_pos[1]], new_state[new_pos[0]][new_pos[1]] = new_state[new_pos[0]][\n",
    "                    new_pos[1]], new_state[empty_pos[0]][empty_pos[1]]\n",
    "                neighbors.append(new_state)\n",
    "\n",
    "        return neighbors\n",
    "\n",
    "    current_state = initial_state\n",
    "    current_temperature = initial_temperature\n",
    "\n",
    "    for _ in range(max_iterations):\n",
    "        if current_temperature <= 0:\n",
    "            break\n",
    "\n",
    "        neighbors = get_neighbors(current_state)\n",
    "        if not neighbors:\n",
    "            break\n",
    "\n",
    "        next_state = random.choice(neighbors)\n",
    "        delta_energy = check_puzzle_state(next_state) - check_puzzle_state(current_state)\n",
    "\n",
    "        if delta_energy < 0 or random.random() < math.exp(-delta_energy / current_temperature):\n",
    "            current_state = next_state\n",
    "\n",
    "        current_temperature *= cooling_rate\n",
    "\n",
    "    return current_state\n",
    "\n",
    "\n",
    "def sa_8_queens(initial_state, initial_temperature, cooling_rate, max_iterations):\n",
    "    def get_neighbors(state):\n",
    "        neighbors = []\n",
    "        for i in range(8):\n",
    "            for j in range(8):\n",
    "                if state[i][j] == 1:\n",
    "                    for k in range(8):\n",
    "                        if k != j:\n",
    "                            new_state = [row[:] for row in state]\n",
    "                            new_state[i][j], new_state[i][k] = 0, 1\n",
    "                            neighbors.append(new_state)\n",
    "        return neighbors\n",
    "\n",
    "    current_state = initial_state\n",
    "    current_temperature = initial_temperature\n",
    "\n",
    "    for _ in range(max_iterations):\n",
    "        if current_temperature <= 0:\n",
    "            break\n",
    "\n",
    "        neighbors = get_neighbors(current_state)\n",
    "        if not neighbors:\n",
    "            break\n",
    "\n",
    "        next_state = random.choice(neighbors)\n",
    "        delta_energy = verify_queens_state(next_state) - verify_queens_state(current_state)\n",
    "\n",
    "        if delta_energy < 0 or random.random() < math.exp(-delta_energy / current_temperature):\n",
    "            current_state = next_state\n",
    "\n",
    "        current_temperature *= cooling_rate\n",
    "\n",
    "    return current_state"
   ]
  },
  {
   "cell_type": "markdown",
   "id": "482b12d03dade9ed",
   "metadata": {},
   "source": [
    "#### Optimal Solution - Queens"
   ]
  },
  {
   "cell_type": "code",
   "execution_count": 85,
   "id": "4403a64d01117197",
   "metadata": {
    "ExecuteTime": {
     "end_time": "2024-04-08T23:54:02.296024Z",
     "start_time": "2024-04-08T23:54:02.294487Z"
    }
   },
   "outputs": [],
   "source": [
    "def optimal_solution_cost_8_queens(state):\n",
    "    \"\"\"\n",
    "    Calculates the optimal solution cost for the 8-queens problem.\n",
    "    The optimal solution cost is 8, representing the placement of 8 queens without attacking each other.\n",
    "\n",
    "    Args:\n",
    "    - state (list): The current state of the 8-queens problem as an 8x8 list.\n",
    "\n",
    "    Returns:\n",
    "    - cost (int): The optimal solution cost.\n",
    "    \"\"\"\n",
    "    # Calculate the number of attacking pairs in the current state\n",
    "    num_attacking_pairs = verify_queens_state(state)\n",
    "    \n",
    "    # Optimal solution cost is the number of queens minus the number of attacking pairs\n",
    "    cost = 8 - num_attacking_pairs\n",
    "    \n",
    "    return cost"
   ]
  },
  {
   "cell_type": "markdown",
   "id": "fe05146244489a0d",
   "metadata": {},
   "source": [
    "#### Optimal Solution - 8 Puzzle"
   ]
  },
  {
   "cell_type": "code",
   "execution_count": 86,
   "id": "ea452306e11596dd",
   "metadata": {
    "ExecuteTime": {
     "end_time": "2024-04-08T23:54:02.321641Z",
     "start_time": "2024-04-08T23:54:02.320044Z"
    }
   },
   "outputs": [],
   "source": [
    "def optimal_solution_cost_8_puzzle(state):\n",
    "    \"\"\"\n",
    "    Calculates the optimal solution cost for the 8-puzzle problem.\n",
    "    The optimal solution cost is the minimum number of moves required to reach the goal state.\n",
    "    In this case, the goal state is when all tiles are arranged in ascending order from left to right, \n",
    "    top to bottom, with the blank tile in the bottom-right corner.\n",
    "\n",
    "    Args:\n",
    "    - state (list): The current state of the 8-puzzle as a 3x3 list.\n",
    "\n",
    "    Returns:\n",
    "    - cost (int): The optimal solution cost.\n",
    "    \"\"\"\n",
    "    # Define the goal state\n",
    "    goal_state = [[1, 2, 3], [4, 5, 6], [7, 8, 0]]  # Blank tile represented by 0\n",
    "    state = state\n",
    "    # Calculate the cost as the Manhattan distance between each tile in the current state\n",
    "    # and its corresponding position in the goal state\n",
    "    cost = sum(abs(i // 3 - goal_state[i][j] // 3) + abs(i % 3 - goal_state[i][j] % 3)\n",
    "               for i in range(3) for j in range(3) if state[i][j] != 0)\n",
    "    \n",
    "    return cost"
   ]
  },
  {
   "cell_type": "markdown",
   "id": "64b93eb947e1303c",
   "metadata": {},
   "source": [
    "### Search Cost"
   ]
  },
  {
   "cell_type": "code",
   "execution_count": 88,
   "id": "decb9c65caa2b1ba",
   "metadata": {
    "ExecuteTime": {
     "end_time": "2024-04-09T00:40:07.959714Z",
     "start_time": "2024-04-09T00:39:57.104190Z"
    }
   },
   "outputs": [
    {
     "data": {
      "image/png": "[encoded data removed]",
      "text/plain": [
       "<Figure size 2000x1000 with 4 Axes>"
      ]
     },
     "metadata": {},
     "output_type": "display_data"
    }
   ],
   "source": [
    "def visualize_search_costs(results):\n",
    "    fig, axes = plt.subplots(nrows=2, ncols=2, figsize=(20, 10))\n",
    "\n",
    "    for i, problem in enumerate([\"8-Puzzle\", \"8-Queens\"]):\n",
    "        search_costs_plot = axes[i][0]\n",
    "        solved_problems_plot = axes[i][1]\n",
    "        total_problems = -1\n",
    "\n",
    "        search_costs_data = []\n",
    "        labels = []\n",
    "        solved_problems_totals = []\n",
    "\n",
    "        for algorithm_name, (search_costs, _) in results.items():\n",
    "            if problem in algorithm_name:\n",
    "                search_costs_data.append(search_costs)\n",
    "                labels.append(algorithm_name.replace('8-Queens ','').replace('8-Puzzle',''))  # Move this inside the loop\n",
    "                solved_problems_count = sum(cost == 0 for cost in search_costs)\n",
    "                solved_problems_totals.append((solved_problems_count, len(search_costs)))\n",
    "                \n",
    "            if total_problems == -1:\n",
    "                total_problems = len(search_costs)\n",
    "\n",
    "        search_costs_plot.boxplot(search_costs_data, labels=labels)  # Move this inside the loop\n",
    "        search_costs_plot.set_title(f\"{problem} Search Cost Comparison\")\n",
    "        search_costs_plot.set_xlabel(\"Algorithm\")\n",
    "        search_costs_plot.set_ylabel(\"Search Cost\")\n",
    "\n",
    "        solved_problems_data = [solved/total for solved, total in solved_problems_totals]\n",
    "\n",
    "        # Scale the heights of the bars based on the proportion of problems solved\n",
    "        bar_heights = [solved_problems_plot.bar(labels, solved_problems_data)[i].get_height() \n",
    "                       for i in range(len(labels))]\n",
    "\n",
    "        for bar, label, height in zip(solved_problems_plot.bar(labels, solved_problems_data), \n",
    "                              solved_problems_data, bar_heights):\n",
    "            solved_problems_plot.text(bar.get_x() + bar.get_width() / 2, height, \n",
    "                              f\"{int(label*100)}% {int(label*total_problems)}/{total_problems}\", ha='center', va='bottom')\n",
    "\n",
    "        solved_problems_plot.set_title(f\"{problem} Solved Problems\")\n",
    "        solved_problems_plot.set_xlabel(\"Algorithm\")\n",
    "        solved_problems_plot.set_ylabel(\"Percentage of Solved Problems\")\n",
    "\n",
    "    plt.tight_layout()\n",
    "    plt.show()\n",
    "\n",
    "\n",
    "def compare_algorithms(num_instances=100, max_restarts=15, initial_temperature=100, cooling_rate=0.99,\n",
    "                       max_iterations=1000):\n",
    "    algorithms = [\n",
    "        (\"8-Puzzle Hill Climbing Steepest Ascent\", hc_sa_8_puzzle),\n",
    "        (\"8-Puzzle Hill Climbing First Choice\", hc_fc_8_puzzle),\n",
    "        (\"8-Puzzle Hill Climbing Random Restart\", hc_rr_8_puzzle),\n",
    "        (\"8-Puzzle Simulated Annealing\", sa_8_puzzle),\n",
    "        (\"8-Queens Hill Climbing Steepest Ascent\", hc_sa_8_queens),\n",
    "        (\"8-Queens Hill Climbing First Choice\", hc_fc_8_queens),\n",
    "        (\"8-Queens Hill Climbing Random Restart\", hc_rr_8_queens),\n",
    "        (\"8-Queens Simulated Annealing\", sa_8_queens)\n",
    "    ]\n",
    "\n",
    "    results = {}\n",
    "    for algorithm_name, algorithm_func in algorithms:\n",
    "        search_costs = []\n",
    "        execution_times = []\n",
    "        for _ in range(num_instances):\n",
    "            if \"8-Puzzle\" in algorithm_name:\n",
    "                initial_state = gen_8p_init_state()\n",
    "                check_state = check_puzzle_state\n",
    "            else:\n",
    "                initial_state = gen_8q_init_state()\n",
    "                check_state = verify_queens_state\n",
    "\n",
    "            start_time = time.time()\n",
    "            if \"Random Restart\" in algorithm_name:\n",
    "                solution = algorithm_func(initial_state, max_restarts)\n",
    "            elif \"Simulated Annealing\" in algorithm_name:\n",
    "                solution = algorithm_func(initial_state, initial_temperature, cooling_rate, max_iterations)\n",
    "            else:\n",
    "                solution = algorithm_func(initial_state)\n",
    "            end_time = time.time()\n",
    "            search_cost = check_state(solution)\n",
    "            search_costs.append(search_cost)\n",
    "            execution_times.append(end_time - start_time)\n",
    "        results[algorithm_name] = (search_costs, execution_times)\n",
    "\n",
    "    visualize_search_costs(results)\n",
    "\n",
    "if __name__ == \"__main__\":\n",
    "    compare_algorithms()"
   ]
  },
  {
   "cell_type": "markdown",
   "id": "922842d97420b4e5",
   "metadata": {},
   "source": [
    "### All options vs. Optimal Solution - Comparison"
   ]
  },
  {
   "cell_type": "code",
   "execution_count": null,
   "id": "802b359df9837961",
   "metadata": {},
   "outputs": [],
   "source": []
  }
 ],
 "metadata": {
  "kernelspec": {
   "display_name": "Python 3",
   "language": "python",
   "name": "python3"
  },
  "language_info": {
   "codemirror_mode": {
    "name": "ipython",
    "version": 2
   },
   "file_extension": ".py",
   "mimetype": "text/x-python",
   "name": "python",
   "nbconvert_exporter": "python",
   "pygments_lexer": "ipython2",
   "version": "2.7.6"
  }
 },
 "nbformat": 4,
 "nbformat_minor": 5
}
