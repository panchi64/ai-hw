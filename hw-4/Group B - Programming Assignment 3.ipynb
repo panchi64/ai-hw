{
 "cells": [
  {
   "metadata": {},
   "cell_type": "markdown",
   "source": [
    "# Problem 4.4\n",
    "\n",
    "## 8 Puzzles and 8 Queens Problem"
   ],
   "id": "72eff809bb453e83"
  },
  {
   "metadata": {},
   "cell_type": "markdown",
   "source": "#### Hill Climbing - Steepest Ascent",
   "id": "96c0f22f4887d460"
  },
  {
   "metadata": {},
   "cell_type": "code",
   "outputs": [],
   "execution_count": null,
   "source": "",
   "id": "7e4de7fafc9f1b9f"
  },
  {
   "metadata": {},
   "cell_type": "markdown",
   "source": "#### Hill Climbing - First Choice",
   "id": "3213ff67aa092c2b"
  },
  {
   "metadata": {},
   "cell_type": "code",
   "outputs": [],
   "execution_count": null,
   "source": "",
   "id": "c8cf55e7e76cb312"
  },
  {
   "metadata": {},
   "cell_type": "markdown",
   "source": "#### Hill Climbing - Random Restart",
   "id": "a47095a549dd1906"
  },
  {
   "metadata": {},
   "cell_type": "code",
   "outputs": [],
   "execution_count": null,
   "source": "",
   "id": "386227595fb60ff5"
  },
  {
   "metadata": {},
   "cell_type": "markdown",
   "source": "#### Simulated Annealing",
   "id": "ac0b30f22199190a"
  },
  {
   "metadata": {},
   "cell_type": "code",
   "outputs": [],
   "execution_count": null,
   "source": "",
   "id": "a141fe59bca3dd39"
  },
  {
   "metadata": {},
   "cell_type": "markdown",
   "source": "#### Optimal Solution",
   "id": "fe05146244489a0d"
  },
  {
   "metadata": {},
   "cell_type": "code",
   "outputs": [],
   "execution_count": null,
   "source": "",
   "id": "4403a64d01117197"
  },
  {
   "metadata": {},
   "cell_type": "markdown",
   "source": "### Search Cost",
   "id": "64b93eb947e1303c"
  },
  {
   "metadata": {},
   "cell_type": "code",
   "outputs": [],
   "execution_count": null,
   "source": "",
   "id": "decb9c65caa2b1ba"
  },
  {
   "metadata": {},
   "cell_type": "markdown",
   "source": "### Percentage of Solved Problems",
   "id": "873c82c2d8418196"
  },
  {
   "metadata": {},
   "cell_type": "code",
   "outputs": [],
   "execution_count": null,
   "source": "",
   "id": "a836fc79a8866162"
  },
  {
   "metadata": {},
   "cell_type": "markdown",
   "source": "### All options vs. Optimal Solution - Comparison",
   "id": "922842d97420b4e5"
  },
  {
   "metadata": {},
   "cell_type": "code",
   "outputs": [],
   "execution_count": null,
   "source": "",
   "id": "802b359df9837961"
  }
 ],
 "metadata": {
  "kernelspec": {
   "display_name": "Python 3",
   "language": "python",
   "name": "python3"
  },
  "language_info": {
   "codemirror_mode": {
    "name": "ipython",
    "version": 2
   },
   "file_extension": ".py",
   "mimetype": "text/x-python",
   "name": "python",
   "nbconvert_exporter": "python",
   "pygments_lexer": "ipython2",
   "version": "2.7.6"
  }
 },
 "nbformat": 4,
 "nbformat_minor": 5
}
