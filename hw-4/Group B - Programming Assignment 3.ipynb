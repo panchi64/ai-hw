{
 "cells": [
  {
   "metadata": {},
   "cell_type": "code",
   "outputs": [],
   "execution_count": null,
   "source": "import random",
   "id": "569b5dbae664498c"
  },
  {
   "metadata": {},
   "cell_type": "markdown",
   "source": [
    "# Problem 4.4\n",
    "\n",
    "## 8 Queens Problem\n",
    "The 8 queens problem is a puzzle of placing eight chess queens on an 8×8 chessboard so that no two queens threaten each other."
   ],
   "id": "72eff809bb453e83"
  },
  {
   "metadata": {},
   "cell_type": "code",
   "outputs": [],
   "execution_count": null,
   "source": [
    "def generate_8_queens_state():\n",
    "    # Generate an empty 8x8 chessboard\n",
    "    empty_board = [[0] * 8 for _ in range(8)]\n",
    "    return empty_board"
   ],
   "id": "b800bfb43ed5a56a"
  },
  {
   "metadata": {},
   "cell_type": "markdown",
   "source": [
    "## 8 Puzzle Problem\n",
    "An 8 puzzle is a simple game consisting of a 3x3 grid/matrix. One of the squares is empty. The object is to move squares around into different positions and have the numbers displayed in the \"goal state\"."
   ],
   "id": "6dcf8e7893e35540"
  },
  {
   "metadata": {},
   "cell_type": "code",
   "outputs": [],
   "execution_count": null,
   "source": [
    "def gen_8p_init_state():\n",
    "    # Generate a random 8-puzzle state\n",
    "    tiles = list(range(1, 9))  # Tiles from 1 to 8\n",
    "    empty_space = 0  # Empty space represented by 0\n",
    "\n",
    "    # Shuffle the tiles randomly\n",
    "    random.shuffle(tiles)\n",
    "\n",
    "    # Insert the empty space at a random position\n",
    "    empty_position = random.randint(0, 8)\n",
    "    tiles.insert(empty_position, empty_space)\n",
    "\n",
    "    # Create a 3x3 grid representation of the state\n",
    "    state = []\n",
    "    for i in range(0, 9, 3):\n",
    "        row = tiles[i:i+3]\n",
    "        state.append(row)\n",
    "\n",
    "    return state"
   ],
   "id": "1f0eb60cb1ab3b2e"
  },
  {
   "metadata": {},
   "cell_type": "markdown",
   "source": "#### Hill Climbing - Steepest Ascent",
   "id": "96c0f22f4887d460"
  },
  {
   "metadata": {},
   "cell_type": "code",
   "outputs": [],
   "execution_count": null,
   "source": [
    "def hc_sa_8_puzzle(initial_state):\n",
    "    def get_neighbors(state):\n",
    "        neighbors = []\n",
    "        empty_pos = None\n",
    "        for i in range(3):\n",
    "            for j in range(3):\n",
    "                if state[i][j] == 0:\n",
    "                    empty_pos = (i, j)\n",
    "                    break\n",
    "            if empty_pos:\n",
    "                break\n",
    "\n",
    "        moves = [(0, 1), (0, -1), (1, 0), (-1, 0)]  # Right, Left, Down, Up\n",
    "        for move in moves:\n",
    "            new_pos = (empty_pos[0] + move[0], empty_pos[1] + move[1])\n",
    "            if 0 <= new_pos[0] < 3 and 0 <= new_pos[1] < 3:\n",
    "                new_state = [row[:] for row in state]\n",
    "                new_state[empty_pos[0]][empty_pos[1]], new_state[new_pos[0]][new_pos[1]] = new_state[new_pos[0]][new_pos[1]], new_state[empty_pos[0]][empty_pos[1]]\n",
    "                neighbors.append(new_state)\n",
    "\n",
    "        return neighbors\n",
    "\n",
    "    def check_puzzle_state(state):\n",
    "        distance = 0\n",
    "        for i in range(3):\n",
    "            for j in range(3):\n",
    "                if state[i][j] != 0:\n",
    "                    target_pos = ((state[i][j] - 1) // 3, (state[i][j] - 1) % 3)\n",
    "                    distance += abs(i - target_pos[0]) + abs(j - target_pos[1])\n",
    "        return distance\n",
    "\n",
    "    current_state = initial_state\n",
    "    while True:\n",
    "        neighbors = get_neighbors(current_state)\n",
    "        best_neighbor = min(neighbors, key=check_puzzle_state)\n",
    "        if check_puzzle_state(best_neighbor) >= check_puzzle_state(current_state):\n",
    "            return current_state\n",
    "        current_state = best_neighbor\n",
    "        \n",
    "def hc_sa_8_queens(initial_state):\n",
    "    def get_neighbors(state):\n",
    "        neighbors = []\n",
    "        for i in range(8):\n",
    "            for j in range(8):\n",
    "                if state[i][j] == 1:\n",
    "                    for k in range(8):\n",
    "                        if k != j:\n",
    "                            new_state = [row[:] for row in state]\n",
    "                            new_state[i][j], new_state[i][k] = 0, 1\n",
    "                            neighbors.append(new_state)\n",
    "        return neighbors\n",
    "\n",
    "    def verify_queens_state(state):\n",
    "        attacks = 0\n",
    "        for i in range(8):\n",
    "            for j in range(8):\n",
    "                if state[i][j] == 1:\n",
    "                    # Check row and column\n",
    "                    attacks += sum(state[i][k] for k in range(8) if k != j)\n",
    "                    attacks += sum(state[k][j] for k in range(8) if k != i)\n",
    "                    # Check diagonals\n",
    "                    attacks += sum(state[i+k][j+k] for k in range(1, min(8-i, 8-j)))\n",
    "                    attacks += sum(state[i+k][j-k] for k in range(1, min(8-i, j+1)))\n",
    "                    attacks += sum(state[i-k][j+k] for k in range(1, min(i+1, 8-j)))\n",
    "                    attacks += sum(state[i-k][j-k] for k in range(1, min(i+1, j+1)))\n",
    "        return attacks\n",
    "\n",
    "    current_state = initial_state\n",
    "    while True:\n",
    "        neighbors = get_neighbors(current_state)\n",
    "        best_neighbor = min(neighbors, key=verify_queens_state)\n",
    "        if verify_queens_state(best_neighbor) >= verify_queens_state(current_state):\n",
    "            return current_state\n",
    "        current_state = best_neighbor"
   ],
   "id": "7e4de7fafc9f1b9f"
  },
  {
   "metadata": {},
   "cell_type": "markdown",
   "source": "#### Hill Climbing - First Choice",
   "id": "3213ff67aa092c2b"
  },
  {
   "metadata": {},
   "cell_type": "code",
   "outputs": [],
   "execution_count": null,
   "source": "",
   "id": "c8cf55e7e76cb312"
  },
  {
   "metadata": {},
   "cell_type": "markdown",
   "source": "#### Hill Climbing - Random Restart",
   "id": "a47095a549dd1906"
  },
  {
   "metadata": {},
   "cell_type": "code",
   "outputs": [],
   "execution_count": null,
   "source": "",
   "id": "386227595fb60ff5"
  },
  {
   "metadata": {},
   "cell_type": "markdown",
   "source": "#### Simulated Annealing",
   "id": "ac0b30f22199190a"
  },
  {
   "metadata": {},
   "cell_type": "code",
   "outputs": [],
   "execution_count": null,
   "source": "",
   "id": "a141fe59bca3dd39"
  },
  {
   "metadata": {},
   "cell_type": "markdown",
   "source": "#### Optimal Solution - Queens",
   "id": "482b12d03dade9ed"
  },
  {
   "metadata": {},
   "cell_type": "code",
   "outputs": [],
   "execution_count": null,
   "source": "",
   "id": "4403a64d01117197"
  },
  {
   "metadata": {},
   "cell_type": "markdown",
   "source": "#### Optimal Solution - 8 Puzzle",
   "id": "fe05146244489a0d"
  },
  {
   "metadata": {},
   "cell_type": "code",
   "outputs": [],
   "execution_count": null,
   "source": "",
   "id": "ea452306e11596dd"
  },
  {
   "metadata": {},
   "cell_type": "markdown",
   "source": "### Search Cost",
   "id": "64b93eb947e1303c"
  },
  {
   "metadata": {},
   "cell_type": "code",
   "outputs": [],
   "execution_count": null,
   "source": "",
   "id": "decb9c65caa2b1ba"
  },
  {
   "metadata": {},
   "cell_type": "markdown",
   "source": "### Percentage of Solved Problems",
   "id": "873c82c2d8418196"
  },
  {
   "metadata": {},
   "cell_type": "code",
   "outputs": [],
   "execution_count": null,
   "source": "",
   "id": "a836fc79a8866162"
  },
  {
   "metadata": {},
   "cell_type": "markdown",
   "source": "### All options vs. Optimal Solution - Comparison",
   "id": "922842d97420b4e5"
  },
  {
   "metadata": {},
   "cell_type": "code",
   "outputs": [],
   "execution_count": null,
   "source": "",
   "id": "802b359df9837961"
  }
 ],
 "metadata": {
  "kernelspec": {
   "display_name": "Python 3",
   "language": "python",
   "name": "python3"
  },
  "language_info": {
   "codemirror_mode": {
    "name": "ipython",
    "version": 2
   },
   "file_extension": ".py",
   "mimetype": "text/x-python",
   "name": "python",
   "nbconvert_exporter": "python",
   "pygments_lexer": "ipython2",
   "version": "2.7.6"
  }
 },
 "nbformat": 4,
 "nbformat_minor": 5
}
