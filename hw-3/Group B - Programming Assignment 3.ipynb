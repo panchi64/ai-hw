{
 "cells": [
  {
   "cell_type": "code",
   "execution_count": 7,
   "metadata": {},
   "outputs": [],
   "source": [
    "import math\n",
    "import heapq"
   ]
  },
  {
   "cell_type": "markdown",
   "metadata": {},
   "source": [
    "# Problem 3.7\n",
    "## Find the shortest path between two points on a plane with convex polygonal obstacles"
   ]
  },
  {
   "cell_type": "markdown",
   "metadata": {},
   "source": [
    "1. Suppose the state space consists of all positions (x,y) in the plane. How many states are there? How many paths are there to the goal?"
   ]
  },
  {
   "cell_type": "markdown",
   "metadata": {},
   "source": [
    "#### _Answer_\n",
    "  - _The state space is defined as the set of nodes in a graph, represented as states, with their corresponding links being the actions that transition from one state to another._ \n",
    "\n",
    "    - _Given that the state space encompasses all (x, y) positions in the plane, and as a plane contains an infinite number of points, the state space itself contains an infinite number of points._ \n",
    "\n",
    "    - _**Since the state space is infinite, the number of states within it is also infinite**._"
   ]
  },
  {
   "cell_type": "markdown",
   "metadata": {},
   "source": [
    "2. Explain briefly why the shortest path from one polygon vertex to any other in the scene must consist of straight-line segments joining some of the vertices of the polygons. Define a good state space now. How large is this state space? "
   ]
  },
  {
   "cell_type": "markdown",
   "metadata": {},
   "source": [
    "#### _Answer_\n",
    "  - _Since the shortest path between two points in the presence of convex polygonal obstacles will always consist of straight-line segments between polygon vertices, the shortest path will always involve navigating as close to a straight line around the obstacles as possible. Therefore, an effective state space should include the vertices of the polygons, the start point, and the goal point._"
   ]
  },
  {
   "cell_type": "markdown",
   "metadata": {},
   "source": [
    "3. Define the necessary functions to implement the search problem, including an function that takes a vertex as input and returns a set of vectors, each of which maps the current vertex to one of the vertices that can be reached in a straight line. (Do not forget the neighbors on the same polygon.) Use the straight-line distance for the heuristic function. "
   ]
  },
  {
   "cell_type": "markdown",
   "metadata": {},
   "source": [
    "4. Apply one or more of the algorithms in this chapter to solve a range of problems in the domain, and comment on their performance."
   ]
  },
  {
   "cell_type": "markdown",
   "metadata": {},
   "source": [
    "#### *Answer*\n",
    "- `actions` function to generate valid actions from a state\n",
    "- `result` function to get the resulting state from an action\n",
    "- `goal_test` function to check if a state is the goal\n",
    "- `path_cost` function to calculate the cost between two states\n",
    "- `heuristic` function to estimate the cost from a state to the goal\n",
    "- `intersects_polygon` function to check if a line segment intersects any obstacle edges\n",
    "- `intersects` function to check if two line segments intersect\n",
    "- `main` a_star function that performs the A* search"
   ]
  },
  {
   "cell_type": "code",
   "execution_count": 8,
   "metadata": {},
   "outputs": [
    {
     "name": "stdout",
     "output_type": "stream",
     "text": [
      "Shortest path: [(0, 0), (8, 2), (10, 10)]\n"
     ]
    }
   ],
   "source": [
    "def actions(state, obstacles):\n",
    "    for v in vertices + [start, goal]:\n",
    "        if v != state and not intersects_polygon(state, v, obstacles):\n",
    "            yield v\n",
    "\n",
    "def result(state, action):\n",
    "    return action\n",
    "\n",
    "def goal_test(state, goal):\n",
    "    return state == goal\n",
    "\n",
    "def path_cost(state1, state2):\n",
    "    return math.hypot(state1[0]-state2[0], state1[1]-state2[1])\n",
    "\n",
    "def heuristic(state, goal):\n",
    "    return math.hypot(state[0]-goal[0], state[1]-goal[1])\n",
    "\n",
    "def intersects_polygon(state1, state2, obstacles):\n",
    "    # Check if the line segment from state1 to state2 intersects any obstacle edges\n",
    "    for obstacle in obstacles:\n",
    "        for i in range(len(obstacle)):\n",
    "            p1 = obstacle[i]\n",
    "            p2 = obstacle[(i+1) % len(obstacle)]\n",
    "            if intersects(state1, state2, p1, p2):\n",
    "                return True\n",
    "    return False\n",
    "\n",
    "def intersects(p1, p2, p3, p4):\n",
    "    # Check if line segments (p1, p2) and (p3, p4) intersect\n",
    "    def ccw(a, b, c):\n",
    "        return (c[1] - a[1]) * (b[0] - a[0]) > (b[1] - a[1]) * (c[0] - a[0])\n",
    "    return ccw(p1, p3, p4) != ccw(p2, p3, p4) and ccw(p1, p2, p3) != ccw(p1, p2, p4)\n",
    "\n",
    "def a_star(start, goal, obstacles):\n",
    "    frontier = [(0, start, [])]\n",
    "    explored = set()\n",
    "    \n",
    "    while frontier:\n",
    "        (cost, state, path) = heapq.heappop(frontier)\n",
    "        \n",
    "        if state == goal:\n",
    "            return path + [state]\n",
    "        \n",
    "        explored.add(state)\n",
    "        \n",
    "        for action in actions(state, obstacles):\n",
    "            new_cost = cost + path_cost(state, action)\n",
    "            new_path = path + [state]\n",
    "            \n",
    "            if action not in explored:\n",
    "                heapq.heappush(frontier, (new_cost + heuristic(action, goal), action, new_path))\n",
    "                \n",
    "    return []\n",
    "\n",
    "# Example usage\n",
    "start = (0, 0)\n",
    "goal = (10, 10)\n",
    "vertices = [(2, 2), (2, 8), (8, 8), (8, 2), (4, 4), (4, 6), (6, 6), (6, 4)]\n",
    "obstacles = [\n",
    "    [(1, 1), (1, 9), (3, 9), (3, 1)],\n",
    "    [(5, 3), (5, 7), (7, 7), (7, 3)],\n",
    "]\n",
    "\n",
    "path = a_star(start, goal, obstacles)\n",
    "print(\"Shortest path:\", path)"
   ]
  },
  {
   "cell_type": "markdown",
   "metadata": {},
   "source": [
    "# Problem 3.9\n",
    "## Missionaries and Cannibals problem"
   ]
  },
  {
   "cell_type": "markdown",
   "metadata": {},
   "source": [
    "1. Formulate the problem precisely, making only those distinctions necessary to ensure a valid solution. Draw a diagram of the complete state space. "
   ]
  },
  {
   "cell_type": "code",
   "execution_count": null,
   "metadata": {},
   "outputs": [],
   "source": []
  },
  {
   "cell_type": "markdown",
   "metadata": {},
   "source": [
    "2. Implement and solve the problem optimally using an appropriate search algorithm. Is it a good idea to check for repeated states? "
   ]
  },
  {
   "cell_type": "code",
   "execution_count": null,
   "metadata": {},
   "outputs": [],
   "source": []
  },
  {
   "cell_type": "markdown",
   "metadata": {},
   "source": [
    "3. Why do you think people have a hard time solving this puzzle, given that the state space is so simple? "
   ]
  },
  {
   "cell_type": "code",
   "execution_count": null,
   "metadata": {},
   "outputs": [],
   "source": []
  }
 ],
 "metadata": {
  "kernelspec": {
   "display_name": ".venv",
   "language": "python",
   "name": "python3"
  },
  "language_info": {
   "codemirror_mode": {
    "name": "ipython",
    "version": 3
   },
   "file_extension": ".py",
   "mimetype": "text/x-python",
   "name": "python",
   "nbconvert_exporter": "python",
   "pygments_lexer": "ipython3",
   "version": "3.10.12"
  }
 },
 "nbformat": 4,
 "nbformat_minor": 2
}
