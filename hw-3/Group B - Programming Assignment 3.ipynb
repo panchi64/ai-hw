{
 "cells": [
  {
   "cell_type": "code",
   "execution_count": 7,
   "metadata": {},
   "outputs": [],
   "source": [
    "import math\n",
    "import heapq\n",
    "from collections import deque"
   ]
  },
  {
   "cell_type": "markdown",
   "metadata": {},
   "source": [
    "# Problem 3.7\n",
    "## Find the shortest path between two points on a plane with convex polygonal obstacles"
   ]
  },
  {
   "cell_type": "markdown",
   "metadata": {},
   "source": [
    "1. Suppose the state space consists of all positions (x,y) in the plane. How many states are there? How many paths are there to the goal?"
   ]
  },
  {
   "cell_type": "markdown",
   "metadata": {},
   "source": [
    "#### _Answer_\n",
    "  - _The state space is defined as the set of nodes in a graph, represented as states, with their corresponding links being the actions that transition from one state to another._ \n",
    "\n",
    "    - _Given that the state space encompasses all (x, y) positions in the plane, and as a plane contains an infinite number of points, the state space itself contains an infinite number of points._ \n",
    "\n",
    "    - _**Since the state space is infinite, the number of states within it is also infinite**._"
   ]
  },
  {
   "cell_type": "markdown",
   "metadata": {},
   "source": [
    "2. Explain briefly why the shortest path from one polygon vertex to any other in the scene must consist of straight-line segments joining some of the vertices of the polygons. Define a good state space now. How large is this state space? "
   ]
  },
  {
   "cell_type": "markdown",
   "metadata": {},
   "source": [
    "#### _Answer_\n",
    "  - _Since the shortest path between two points in the presence of convex polygonal obstacles will always consist of straight-line segments between polygon vertices, the shortest path will always involve navigating as close to a straight line around the obstacles as possible. Therefore, an effective state space should include the vertices of the polygons, the start point, and the goal point._"
   ]
  },
  {
   "cell_type": "markdown",
   "metadata": {},
   "source": [
    "3. Define the necessary functions to implement the search problem, including an function that takes a vertex as input and returns a set of vectors, each of which maps the current vertex to one of the vertices that can be reached in a straight line. (Do not forget the neighbors on the same polygon.) Use the straight-line distance for the heuristic function. "
   ]
  },
  {
   "cell_type": "markdown",
   "metadata": {},
   "source": [
    "4. Apply one or more of the algorithms in this chapter to solve a range of problems in the domain, and comment on their performance."
   ]
  },
  {
   "cell_type": "markdown",
   "metadata": {},
   "source": [
    "#### *Answer*\n",
    "- `actions` function to generate valid actions from a state\n",
    "- `result` function to get the resulting state from an action\n",
    "- `goal_test` function to check if a state is the goal\n",
    "- `path_cost` function to calculate the cost between two states\n",
    "- `heuristic` function to estimate the cost from a state to the goal\n",
    "- `intersects_polygon` function to check if a line segment intersects any obstacle edges\n",
    "- `intersects` function to check if two line segments intersect\n",
    "- `main` a_star function that performs the A* search"
   ]
  },
  {
   "cell_type": "code",
   "execution_count": 8,
   "metadata": {},
   "outputs": [
    {
     "name": "stdout",
     "output_type": "stream",
     "text": [
      "Shortest path: [(0, 0), (8, 2), (10, 10)]\n"
     ]
    }
   ],
   "source": [
    "def actions(state, obstacles):\n",
    "    for v in vertices + [start, goal]:\n",
    "        if v != state and not intersects_polygon(state, v, obstacles):\n",
    "            yield v\n",
    "\n",
    "def result(state, action):\n",
    "    return action\n",
    "\n",
    "def goal_test(state, goal):\n",
    "    return state == goal\n",
    "\n",
    "def path_cost(state1, state2):\n",
    "    return math.hypot(state1[0]-state2[0], state1[1]-state2[1])\n",
    "\n",
    "def heuristic(state, goal):\n",
    "    return math.hypot(state[0]-goal[0], state[1]-goal[1])\n",
    "\n",
    "def intersects_polygon(state1, state2, obstacles):\n",
    "    # Check if the line segment from state1 to state2 intersects any obstacle edges\n",
    "    for obstacle in obstacles:\n",
    "        for i in range(len(obstacle)):\n",
    "            p1 = obstacle[i]\n",
    "            p2 = obstacle[(i+1) % len(obstacle)]\n",
    "            if intersects(state1, state2, p1, p2):\n",
    "                return True\n",
    "    return False\n",
    "\n",
    "def intersects(p1, p2, p3, p4):\n",
    "    # Check if line segments (p1, p2) and (p3, p4) intersect\n",
    "    def ccw(a, b, c):\n",
    "        return (c[1] - a[1]) * (b[0] - a[0]) > (b[1] - a[1]) * (c[0] - a[0])\n",
    "    return ccw(p1, p3, p4) != ccw(p2, p3, p4) and ccw(p1, p2, p3) != ccw(p1, p2, p4)\n",
    "\n",
    "def a_star(start, goal, obstacles):\n",
    "    frontier = [(0, start, [])]\n",
    "    explored = set()\n",
    "    \n",
    "    while frontier:\n",
    "        (cost, state, path) = heapq.heappop(frontier)\n",
    "        \n",
    "        if state == goal:\n",
    "            return path + [state]\n",
    "        \n",
    "        explored.add(state)\n",
    "        \n",
    "        for action in actions(state, obstacles):\n",
    "            new_cost = cost + path_cost(state, action)\n",
    "            new_path = path + [state]\n",
    "            \n",
    "            if action not in explored:\n",
    "                heapq.heappush(frontier, (new_cost + heuristic(action, goal), action, new_path))\n",
    "                \n",
    "    return []\n",
    "\n",
    "# Example usage\n",
    "start = (0, 0)\n",
    "goal = (10, 10)\n",
    "vertices = [(2, 2), (2, 8), (8, 8), (8, 2), (4, 4), (4, 6), (6, 6), (6, 4)]\n",
    "obstacles = [\n",
    "    [(1, 1), (1, 9), (3, 9), (3, 1)],\n",
    "    [(5, 3), (5, 7), (7, 7), (7, 3)],\n",
    "]\n",
    "\n",
    "path = a_star(start, goal, obstacles)\n",
    "print(\"Shortest path:\", path)"
   ]
  },
  {
   "cell_type": "markdown",
   "metadata": {},
   "source": [
    "# Problem 3.9\n",
    "## Missionaries and Cannibals problem"
   ]
  },
  {
   "cell_type": "markdown",
   "metadata": {},
   "source": [
    "1. Formulate the problem precisely, making only those distinctions necessary to ensure a valid solution. Draw a diagram of the complete state space. "
   ]
  },
  {
   "cell_type": "markdown",
   "metadata": {},
   "source": [
    "Initial State: Three missionaries, three cannibals, and the boat are on the left bank of the river.\n",
    " \n",
    "Goal State: All three missionaries and three cannibals are on the right bank of the river.\n",
    " \n",
    "Operators: The boat can carry one or two people from one bank to the other. The boat cannot move by itself.\n",
    " \n",
    "Constraints: At no point should the number of cannibals on a specific bank outnumber the number of missionaries on that same bank. Otherwise, the cannibals will eat the missionaries.\n",
    " \n",
    "State Space Diagram:\n",
    " \n",
    "Explanation:\n",
    "Here's a simplified representation of the state space:\n",
    " \n",
    "Initial State: (3M, 3C, L)  --> (3M, 3C, R) : Goal State\n",
    " \n",
    "L: Left Bank\n",
    "R: Right Bank\n",
    " \n",
    "Operators:\n",
    "1. CC: Two cannibals cross from left to right.\n",
    "2. C: One cannibal crosses from right to left.\n",
    "3. MC: One missionary and one cannibal cross from left to right.\n",
    "4. C: One cannibal crosses from right to left.\n",
    "5. MC: One missionary and one cannibal cross from left to right.\n",
    "6. C: One cannibal crosses from right to left.\n",
    "7. CC: Two cannibals cross from left to right.\n",
    "8. C: One cannibal crosses from right to left.\n",
    "9. MC: One missionary and one cannibal cross from left to right."
   ]
  },
  {
   "cell_type": "markdown",
   "metadata": {},
   "source": [
    "2. Implement and solve the problem optimally using an appropriate search algorithm. Is it a good idea to check for repeated states? "
   ]
  },
  {
   "cell_type": "markdown",
   "metadata": {},
   "source": [
    "This problem can be optimally solved using a search algorithm such as Breadth-First Search (BFS) or Depth-First Search (DFS). BFS is often preferred because it guarantees the shortest path to the solution.\n",
    " \n",
    "Checking for repeated states is essential to avoid infinite loops in the search process. Repeated states can occur when the same configuration of missionaries, cannibals, and boat positions is reached, thus creating an infinite back and forth.\n",
    " \n",
    "To solve the Missionaries and Cannibals problem optimally, we'll use the Breadth-First Search (BFS) algorithm. BFS ensures that we find the shortest path to the goal state while avoiding any repeated states.\n",
    " \n",
    "Here's a Python implementation:\n",
    " \n"
   ]
  },
  {
   "cell_type": "code",
   "execution_count": 6,
   "metadata": {},
   "outputs": [
    {
     "name": "stdout",
     "output_type": "stream",
     "text": [
      "Step 1: ((3, 3), (2, 0), 1)\n",
      "Step 2: ((4, 3), (1, 0), 0)\n",
      "Step 3: ((3, 2), (2, 1), 1)\n",
      "Step 4: ((4, 2), (1, 1), 0)\n",
      "Step 5: ((2, 2), (3, 1), 1)\n",
      "Step 6: ((3, 2), (2, 1), 0)\n",
      "Step 7: ((2, 1), (3, 2), 1)\n",
      "Step 8: ((3, 1), (2, 2), 0)\n",
      "Step 9: ((1, 1), (4, 2), 1)\n",
      "Step 10: ((2, 1), (3, 2), 0)\n",
      "Step 11: ((0, 1), (5, 2), 1)\n",
      "Step 12: ((1, 1), (4, 2), 0)\n",
      "Step 13: ((0, 0), (5, 3), 1)\n"
     ]
    }
   ],
   "source": [
    "# Variables\n",
    "m = 3\n",
    "c = 3\n",
    "\n",
    "# Define the initial state and goal state\n",
    "goal_state = ((0, 0), (m, c), 1)  # (Missionaries on left, Cannibals on left, Boat position)\n",
    "initial_state = ((m, c), (0, 0), 0)  # (Missionaries on left, Cannibals on left, Boat position)\n",
    "\n",
    "# Define a function to check if a state is valid\n",
    "def is_valid(state):\n",
    "    left, right, boat = state\n",
    "    if left[0] < 0 or left[1] < 0 or right[0] < 0 or right[1] < 0:\n",
    "        return False\n",
    "    if left[0] < left[1] and left[0] > 0:  # More cannibals than missionaries on the left bank\n",
    "        return False\n",
    "    if right[0] < right[1] and right[0] > 0:  # More cannibals than missionaries on the right bank\n",
    "        return False\n",
    "    return True\n",
    "\n",
    "# Define a function to generate next possible states\n",
    "def generate_next_states(state):\n",
    "    left, right, boat = state\n",
    "    possible_states = []\n",
    "\n",
    "    # Define the possible moves\n",
    "    moves = [(2, 0), (0, 2), (1, 1), (1, 0), (0, 1)]\n",
    "\n",
    "    # Loop through each possible move combination\n",
    "    for move in moves:\n",
    "        # Check the current position of the boat\n",
    "        if boat == 0:\n",
    "            # If the boat is on the left side of the river:\n",
    "            # Calculate the new number of missionaries and cannibals on the left and right sides after the move\n",
    "            new_left = (left[0] - move[0], left[1] - move[1])\n",
    "            new_right = (right[0] + move[0], right[1] + move[1])\n",
    "        else:\n",
    "            # If the boat is on the right side of the river:\n",
    "            # Calculate the new number of missionaries and cannibals on the left and right sides after the move\n",
    "            new_left = (left[0] + move[0], left[1] + move[1])\n",
    "            new_right = (right[0] - move[0], right[1] - move[1])\n",
    "\n",
    "        # Create a new state representing the updated positions of missionaries and cannibals and the boat\n",
    "        new_state = (new_left, new_right, 1 - boat)\n",
    "        \n",
    "        # Check if the new state is valid according to the problem constraints\n",
    "        if is_valid(new_state):\n",
    "            # If the new state is valid, add it to the list of possible next states\n",
    "            possible_states.append(new_state)\n",
    "\n",
    "    # Return the list of possible next states after all moves have been considered\n",
    "    return possible_states\n",
    "\n",
    "\n",
    "# Define the BFS function to find the solution\n",
    "def bfs(initial_state, goal_state):\n",
    "    visited = set()\n",
    "    queue = deque([(initial_state, [])])\n",
    "\n",
    "    while queue:\n",
    "        state, path = queue.popleft()\n",
    "        visited.add(tuple(state))  # Convert the state to a tuple before adding to set\n",
    "\n",
    "        if state == goal_state:\n",
    "            return path\n",
    "\n",
    "        for next_state in generate_next_states(state):\n",
    "            if tuple(next_state) not in visited:  # Convert the next_state to a tuple for comparison\n",
    "                queue.append((next_state, path + [next_state]))\n",
    "\n",
    "    return None\n",
    "\n",
    "# Find and print the optimal solution\n",
    "optimal_path = bfs(initial_state, goal_state)\n",
    "if optimal_path:\n",
    "    for step, state in enumerate(optimal_path):\n",
    "        print(f\"Step {step + 1}: {state}\")\n",
    "else:\n",
    "    print(\"No solution found.\")"
   ]
  },
  {
   "cell_type": "markdown",
   "metadata": {},
   "source": [
    "This code uses BFS to find the optimal path from the initial state to the goal state while avoiding repeated states. It checks the validity of states, generates next possible states, and maintains a queue to explore the state space.\n",
    " \n",
    "Checking for repeated states is crucial to avoid infinite loops, as the problem space can lead to revisiting the same states.\n",
    " \n",
    "When you run the code, it will print the steps required to move the missionaries and cannibals from the initial state to the goal state while adhering to the rules of the puzzle."
   ]
  },
  {
   "cell_type": "markdown",
   "metadata": {},
   "source": [
    "3. Why do you think people have a hard time solving this puzzle, given that the state space is so simple? "
   ]
  },
  {
   "cell_type": "markdown",
   "metadata": {},
   "source": [
    "People often find this puzzle challenging because it involves a complex interplay of multiple constraints: maintaining the safety of the missionaries, preventing the cannibals from outnumbering the missionaries on either side and efficiently using the boat's capacity.\n",
    " \n",
    "While the state space itself is simple to represent, the constraints and the need for a valid solution make it a non-trivial problem to solve manually. This puzzle requires careful planning and adherence to the defined rules to find a solution without violating any constraints.\n",
    "\n",
    "In summary, the simplicity of the state space masks the complexity of the constraints and rules involved, making the missionaries and cannibals problem a classic puzzle in artificial intelligence and problem-solving."
   ]
  }
 ],
 "metadata": {
  "kernelspec": {
   "display_name": ".venv",
   "language": "python",
   "name": "python3"
  },
  "language_info": {
   "codemirror_mode": {
    "name": "ipython",
    "version": 3
   },
   "file_extension": ".py",
   "mimetype": "text/x-python",
   "name": "python",
   "nbconvert_exporter": "python",
   "pygments_lexer": "ipython3",
   "version": "3.10.12"
  }
 },
 "nbformat": 4,
 "nbformat_minor": 2
}
