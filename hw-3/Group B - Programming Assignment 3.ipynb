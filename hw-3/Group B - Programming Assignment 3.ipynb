{
 "cells": [
  {
   "cell_type": "code",
   "execution_count": null,
   "metadata": {},
   "outputs": [],
   "source": [
    "import math\n",
    "from collections import deque\n",
    "from typing import List, Tuple"
   ]
  },
  {
   "cell_type": "markdown",
   "metadata": {},
   "source": [
    "# Problem 3.7\n",
    "## Find the shortest path between two points on a plane with convex polygonal obstacles"
   ]
  },
  {
   "cell_type": "markdown",
   "metadata": {},
   "source": [
    "1. Suppose the state space consists of all positions (x,y) in the plane. How many states are there? How many paths are there to the goal?"
   ]
  },
  {
   "cell_type": "markdown",
   "metadata": {},
   "source": [
    "#### _Answer_\n",
    "  - _The state space is defined as the set of nodes in a graph, represented as states, with their corresponding links being the actions that transition from one state to another._ \n",
    "\n",
    "    - _Given that the state space encompasses all (x, y) positions in the plane, and as a plane contains an infinite number of points, the state space itself contains an infinite number of points._ \n",
    "\n",
    "    - _**Since the state space is infinite, the number of states within it is also infinite**._"
   ]
  },
  {
   "cell_type": "markdown",
   "metadata": {},
   "source": [
    "2. Explain briefly why the shortest path from one polygon vertex to any other in the scene must consist of straight-line segments joining some of the vertices of the polygons. Define a good state space now. How large is this state space? "
   ]
  },
  {
   "cell_type": "markdown",
   "metadata": {},
   "source": [
    "#### _Answer_\n",
    "  - _Since the shortest path between two points in the presence of convex polygonal obstacles will always consist of straight-line segments between polygon vertices, the shortest path will always involve navigating as close to a straight line around the obstacles as possible. Therefore, an effective state space should include the vertices of the polygons, the start point, and the goal point._"
   ]
  },
  {
   "cell_type": "markdown",
   "metadata": {},
   "source": [
    "3. Define the necessary functions to implement the search problem, including an function that takes a vertex as input and returns a set of vectors, each of which maps the current vertex to one of the vertices that can be reached in a straight line. (Do not forget the neighbors on the same polygon.) Use the straight-line distance for the heuristic function. "
   ]
  },
  {
   "cell_type": "code",
   "execution_count": null,
   "metadata": {},
   "outputs": [],
   "source": [
    "class Coordinate:\n",
    "    def __init__(self, x: int, y: int):\n",
    "        self.position = (x, y)\n",
    "        self.goal = (164, 79)\n",
    "        self.predecessor = None\n",
    "\n",
    "    def __repr__(self):\n",
    "        return f\"[{self.position[0]}, {self.position[1]}]\"\n",
    "\n",
    "    def __eq__(self, other):\n",
    "        return self.position == other.position\n",
    "\n",
    "    def __hash__(self):\n",
    "        return hash(self.position)\n",
    "\n",
    "    def is_goal(self) -> bool:\n",
    "        return self.position == self.goal\n",
    "\n",
    "    def dist_from_goal(self) -> float:\n",
    "        return math.sqrt((self.goal[0] - self.position[0]) ** 2 + (self.goal[1] - self.position[1]) ** 2)\n",
    "\n",
    "    def set_predecessor(self, predecessor):\n",
    "        self.predecessor = predecessor\n",
    "\n",
    "    def get_predecessor(self):\n",
    "        return self.predecessor\n",
    "\n",
    "class CoordinateSuccessorFunction:\n",
    "    def __init__(self):\n",
    "        self.coordinates = [\n",
    "            Coordinate(16, 22), Coordinate(25, 28), Coordinate(25, 7), Coordinate(85, 28),\n",
    "            Coordinate(85, 7), Coordinate(42, 83), Coordinate(24, 67), Coordinate(25, 45),\n",
    "            Coordinate(45, 39), Coordinate(55, 62), Coordinate(69, 65), Coordinate(60, 34),\n",
    "            Coordinate(77, 34), Coordinate(77, 81), Coordinate(91, 83), Coordinate(103, 70),\n",
    "            Coordinate(80, 58), Coordinate(90, 45), Coordinate(95, 12), Coordinate(110, 26),\n",
    "            Coordinate(103, 80), Coordinate(138, 80), Coordinate(103, 35), Coordinate(138, 35),\n",
    "            Coordinate(125, 22), Coordinate(140, 29), Coordinate(153, 22), Coordinate(153, 6),\n",
    "            Coordinate(140, 3), Coordinate(125, 6), Coordinate(145, 74), Coordinate(154, 80),\n",
    "            Coordinate(159, 72), Coordinate(155, 29), Coordinate(164, 79)\n",
    "        ]\n",
    "\n",
    "    def get_successors(self, current_state: Coordinate) -> List[Coordinate]:\n",
    "        successors = []\n",
    "        for coord in self.coordinates:\n",
    "            if self.are_neighbors(current_state, coord):\n",
    "                successors.append(coord)\n",
    "        return successors\n",
    "\n",
    "    @staticmethod\n",
    "    def are_neighbors(coord1: Coordinate, coord2: Coordinate) -> bool:\n",
    "        return abs(coord1.position[0] - coord2.position[0]) <= 1 and abs(coord1.position[1] - coord2.position[1]) <= 1\n",
    "\n",
    "def uniform_cost_search(start_state: Coordinate) -> List[Coordinate]:\n",
    "    open_set = deque([start_state])\n",
    "    closed_set = set()\n",
    "\n",
    "    while open_set:\n",
    "        current_state = open_set.popleft()\n",
    "        if current_state.is_goal():\n",
    "            print(\"Success: Goal found\")\n",
    "            print(current_state)\n",
    "            return reconstruct_path(current_state)\n",
    "\n",
    "        closed_set.add(current_state)\n",
    "\n",
    "        successor_function = CoordinateSuccessorFunction()\n",
    "        successors = successor_function.get_successors(current_state)\n",
    "\n",
    "        for successor in successors:\n",
    "            if successor not in closed_set and successor not in open_set:\n",
    "                open_set.append(successor)\n",
    "                successor.set_predecessor(current_state)\n",
    "\n",
    "    print(\"Failed to Search\")\n",
    "    return []\n",
    "\n",
    "def reconstruct_path(goal_state: Coordinate) -> List[Coordinate]:\n",
    "    path = []\n",
    "    current = goal_state\n",
    "    while current is not None:\n",
    "        path.append(current)\n",
    "        current = current.get_predecessor()\n",
    "    path.reverse()\n",
    "    return path\n",
    "\n",
    "def main():\n",
    "    start_state = Coordinate(16, 22)\n",
    "    path = uniform_cost_search(start_state)\n",
    "\n",
    "    if path:\n",
    "        print(\"Search path:\")\n",
    "        for coord in path:\n",
    "            print(coord, end=\" \")\n",
    "        print(f\"\\nThe length of the path is: {sum(path[i].dist_from_goal() for i in range(len(path) - 1))}\")\n",
    "\n",
    "if __name__ == \"__main__\":\n",
    "    main()"
   ]
  },
  {
   "cell_type": "markdown",
   "metadata": {},
   "source": [
    "4. Apply one or more of the algorithms in this chapter to solve a range of problems in the domain, and comment on their performance."
   ]
  },
  {
   "cell_type": "code",
   "execution_count": null,
   "metadata": {},
   "outputs": [],
   "source": []
  },
  {
   "cell_type": "markdown",
   "metadata": {},
   "source": [
    "# Problem 3.9\n",
    "## Missionaries and Cannibals problem"
   ]
  },
  {
   "cell_type": "markdown",
   "metadata": {},
   "source": [
    "1. Formulate the problem precisely, making only those distinctions necessary to ensure a valid solution. Draw a diagram of the complete state space. "
   ]
  },
  {
   "cell_type": "code",
   "execution_count": null,
   "metadata": {},
   "outputs": [],
   "source": []
  },
  {
   "cell_type": "markdown",
   "metadata": {},
   "source": [
    "2. Implement and solve the problem optimally using an appropriate search algorithm. Is it a good idea to check for repeated states? "
   ]
  },
  {
   "cell_type": "code",
   "execution_count": null,
   "metadata": {},
   "outputs": [],
   "source": []
  },
  {
   "cell_type": "markdown",
   "metadata": {},
   "source": [
    "3. Why do you think people have a hard time solving this puzzle, given that the state space is so simple? "
   ]
  },
  {
   "cell_type": "code",
   "execution_count": null,
   "metadata": {},
   "outputs": [],
   "source": []
  }
 ],
 "metadata": {
  "language_info": {
   "name": "python"
  }
 },
 "nbformat": 4,
 "nbformat_minor": 2
}
