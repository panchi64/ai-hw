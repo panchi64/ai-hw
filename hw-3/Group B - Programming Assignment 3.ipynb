{
 "cells": [
  {
   "cell_type": "code",
   "execution_count": null,
   "metadata": {},
   "outputs": [],
   "source": [
    "import math\n",
    "from collections import deque\n",
    "from typing import List, Tuple"
   ]
  },
  {
   "cell_type": "markdown",
   "metadata": {},
   "source": [
    "# Problem 3.7\n",
    "## Find the shortest path between two points on a plane with convex polygonal obstacles"
   ]
  },
  {
   "cell_type": "markdown",
   "metadata": {},
   "source": [
    "1. Suppose the state space consists of all positions (x,y) in the plane. How many states are there? How many paths are there to the goal?"
   ]
  },
  {
   "cell_type": "markdown",
   "metadata": {},
   "source": [
    "#### _Answer_\n",
    "  - _The state space is defined as the set of nodes in a graph, represented as states, with their corresponding links being the actions that transition from one state to another._ \n",
    "\n",
    "    - _Given that the state space encompasses all (x, y) positions in the plane, and as a plane contains an infinite number of points, the state space itself contains an infinite number of points._ \n",
    "\n",
    "    - _**Since the state space is infinite, the number of states within it is also infinite**._"
   ]
  },
  {
   "cell_type": "markdown",
   "metadata": {},
   "source": [
    "2. Explain briefly why the shortest path from one polygon vertex to any other in the scene must consist of straight-line segments joining some of the vertices of the polygons. Define a good state space now. How large is this state space? "
   ]
  },
  {
   "cell_type": "markdown",
   "metadata": {},
   "source": [
    "#### _Answer_\n",
    "  - _Since the shortest path between two points in the presence of convex polygonal obstacles will always consist of straight-line segments between polygon vertices, the shortest path will always involve navigating as close to a straight line around the obstacles as possible. Therefore, an effective state space should include the vertices of the polygons, the start point, and the goal point._"
   ]
  },
  {
   "cell_type": "markdown",
   "metadata": {},
   "source": [
    "3. Define the necessary functions to implement the search problem, including an function that takes a vertex as input and returns a set of vectors, each of which maps the current vertex to one of the vertices that can be reached in a straight line. (Do not forget the neighbors on the same polygon.) Use the straight-line distance for the heuristic function. "
   ]
  },
  {
   "cell_type": "code",
   "execution_count": 4,
   "metadata": {},
   "outputs": [
    {
     "ename": "NameError",
     "evalue": "name 'List' is not defined",
     "output_type": "error",
     "traceback": [
      "\u001b[1;31m---------------------------------------------------------------------------\u001b[0m",
      "\u001b[1;31mNameError\u001b[0m                                 Traceback (most recent call last)",
      "Cell \u001b[1;32mIn[4], line 28\u001b[0m\n\u001b[0;32m     25\u001b[0m     \u001b[38;5;28;01mdef\u001b[39;00m \u001b[38;5;21mget_predecessor\u001b[39m(\u001b[38;5;28mself\u001b[39m):\n\u001b[0;32m     26\u001b[0m         \u001b[38;5;28;01mreturn\u001b[39;00m \u001b[38;5;28mself\u001b[39m\u001b[38;5;241m.\u001b[39mpredecessor\n\u001b[1;32m---> 28\u001b[0m \u001b[38;5;28;43;01mclass\u001b[39;49;00m\u001b[43m \u001b[49m\u001b[38;5;21;43;01mCoordinateSuccessorFunction\u001b[39;49;00m\u001b[43m:\u001b[49m\n\u001b[0;32m     29\u001b[0m \u001b[43m    \u001b[49m\u001b[38;5;28;43;01mdef\u001b[39;49;00m\u001b[43m \u001b[49m\u001b[38;5;21;43m__init__\u001b[39;49m\u001b[43m(\u001b[49m\u001b[38;5;28;43mself\u001b[39;49m\u001b[43m)\u001b[49m\u001b[43m:\u001b[49m\n\u001b[0;32m     30\u001b[0m \u001b[43m        \u001b[49m\u001b[38;5;28;43mself\u001b[39;49m\u001b[38;5;241;43m.\u001b[39;49m\u001b[43mcoordinates\u001b[49m\u001b[43m \u001b[49m\u001b[38;5;241;43m=\u001b[39;49m\u001b[43m \u001b[49m\u001b[43m[\u001b[49m\n\u001b[0;32m     31\u001b[0m \u001b[43m            \u001b[49m\u001b[43mCoordinate\u001b[49m\u001b[43m(\u001b[49m\u001b[38;5;241;43m16\u001b[39;49m\u001b[43m,\u001b[49m\u001b[43m \u001b[49m\u001b[38;5;241;43m22\u001b[39;49m\u001b[43m)\u001b[49m\u001b[43m,\u001b[49m\u001b[43m \u001b[49m\u001b[43mCoordinate\u001b[49m\u001b[43m(\u001b[49m\u001b[38;5;241;43m25\u001b[39;49m\u001b[43m,\u001b[49m\u001b[43m \u001b[49m\u001b[38;5;241;43m28\u001b[39;49m\u001b[43m)\u001b[49m\u001b[43m,\u001b[49m\u001b[43m \u001b[49m\u001b[43mCoordinate\u001b[49m\u001b[43m(\u001b[49m\u001b[38;5;241;43m25\u001b[39;49m\u001b[43m,\u001b[49m\u001b[43m \u001b[49m\u001b[38;5;241;43m7\u001b[39;49m\u001b[43m)\u001b[49m\u001b[43m,\u001b[49m\u001b[43m \u001b[49m\u001b[43mCoordinate\u001b[49m\u001b[43m(\u001b[49m\u001b[38;5;241;43m85\u001b[39;49m\u001b[43m,\u001b[49m\u001b[43m \u001b[49m\u001b[38;5;241;43m28\u001b[39;49m\u001b[43m)\u001b[49m\u001b[43m,\u001b[49m\n\u001b[0;32m     32\u001b[0m \u001b[43m            \u001b[49m\u001b[43mCoordinate\u001b[49m\u001b[43m(\u001b[49m\u001b[38;5;241;43m85\u001b[39;49m\u001b[43m,\u001b[49m\u001b[43m \u001b[49m\u001b[38;5;241;43m7\u001b[39;49m\u001b[43m)\u001b[49m\u001b[43m,\u001b[49m\u001b[43m \u001b[49m\u001b[43mCoordinate\u001b[49m\u001b[43m(\u001b[49m\u001b[38;5;241;43m42\u001b[39;49m\u001b[43m,\u001b[49m\u001b[43m \u001b[49m\u001b[38;5;241;43m83\u001b[39;49m\u001b[43m)\u001b[49m\u001b[43m,\u001b[49m\u001b[43m \u001b[49m\u001b[43mCoordinate\u001b[49m\u001b[43m(\u001b[49m\u001b[38;5;241;43m24\u001b[39;49m\u001b[43m,\u001b[49m\u001b[43m \u001b[49m\u001b[38;5;241;43m67\u001b[39;49m\u001b[43m)\u001b[49m\u001b[43m,\u001b[49m\u001b[43m \u001b[49m\u001b[43mCoordinate\u001b[49m\u001b[43m(\u001b[49m\u001b[38;5;241;43m25\u001b[39;49m\u001b[43m,\u001b[49m\u001b[43m \u001b[49m\u001b[38;5;241;43m45\u001b[39;49m\u001b[43m)\u001b[49m\u001b[43m,\u001b[49m\n\u001b[1;32m   (...)\u001b[0m\n\u001b[0;32m     39\u001b[0m \u001b[43m            \u001b[49m\u001b[43mCoordinate\u001b[49m\u001b[43m(\u001b[49m\u001b[38;5;241;43m159\u001b[39;49m\u001b[43m,\u001b[49m\u001b[43m \u001b[49m\u001b[38;5;241;43m72\u001b[39;49m\u001b[43m)\u001b[49m\u001b[43m,\u001b[49m\u001b[43m \u001b[49m\u001b[43mCoordinate\u001b[49m\u001b[43m(\u001b[49m\u001b[38;5;241;43m155\u001b[39;49m\u001b[43m,\u001b[49m\u001b[43m \u001b[49m\u001b[38;5;241;43m29\u001b[39;49m\u001b[43m)\u001b[49m\u001b[43m,\u001b[49m\u001b[43m \u001b[49m\u001b[43mCoordinate\u001b[49m\u001b[43m(\u001b[49m\u001b[38;5;241;43m164\u001b[39;49m\u001b[43m,\u001b[49m\u001b[43m \u001b[49m\u001b[38;5;241;43m79\u001b[39;49m\u001b[43m)\u001b[49m\n\u001b[0;32m     40\u001b[0m \u001b[43m        \u001b[49m\u001b[43m]\u001b[49m\n",
      "Cell \u001b[1;32mIn[4], line 42\u001b[0m, in \u001b[0;36mCoordinateSuccessorFunction\u001b[1;34m()\u001b[0m\n\u001b[0;32m     29\u001b[0m \u001b[38;5;28;01mdef\u001b[39;00m \u001b[38;5;21m__init__\u001b[39m(\u001b[38;5;28mself\u001b[39m):\n\u001b[0;32m     30\u001b[0m     \u001b[38;5;28mself\u001b[39m\u001b[38;5;241m.\u001b[39mcoordinates \u001b[38;5;241m=\u001b[39m [\n\u001b[0;32m     31\u001b[0m         Coordinate(\u001b[38;5;241m16\u001b[39m, \u001b[38;5;241m22\u001b[39m), Coordinate(\u001b[38;5;241m25\u001b[39m, \u001b[38;5;241m28\u001b[39m), Coordinate(\u001b[38;5;241m25\u001b[39m, \u001b[38;5;241m7\u001b[39m), Coordinate(\u001b[38;5;241m85\u001b[39m, \u001b[38;5;241m28\u001b[39m),\n\u001b[0;32m     32\u001b[0m         Coordinate(\u001b[38;5;241m85\u001b[39m, \u001b[38;5;241m7\u001b[39m), Coordinate(\u001b[38;5;241m42\u001b[39m, \u001b[38;5;241m83\u001b[39m), Coordinate(\u001b[38;5;241m24\u001b[39m, \u001b[38;5;241m67\u001b[39m), Coordinate(\u001b[38;5;241m25\u001b[39m, \u001b[38;5;241m45\u001b[39m),\n\u001b[1;32m   (...)\u001b[0m\n\u001b[0;32m     39\u001b[0m         Coordinate(\u001b[38;5;241m159\u001b[39m, \u001b[38;5;241m72\u001b[39m), Coordinate(\u001b[38;5;241m155\u001b[39m, \u001b[38;5;241m29\u001b[39m), Coordinate(\u001b[38;5;241m164\u001b[39m, \u001b[38;5;241m79\u001b[39m)\n\u001b[0;32m     40\u001b[0m     ]\n\u001b[1;32m---> 42\u001b[0m \u001b[38;5;28;01mdef\u001b[39;00m \u001b[38;5;21mget_successors\u001b[39m(\u001b[38;5;28mself\u001b[39m, current_state: Coordinate) \u001b[38;5;241m-\u001b[39m\u001b[38;5;241m>\u001b[39m \u001b[43mList\u001b[49m[Coordinate]:\n\u001b[0;32m     43\u001b[0m     successors \u001b[38;5;241m=\u001b[39m []\n\u001b[0;32m     44\u001b[0m     \u001b[38;5;28;01mfor\u001b[39;00m coord \u001b[38;5;129;01min\u001b[39;00m \u001b[38;5;28mself\u001b[39m\u001b[38;5;241m.\u001b[39mcoordinates:\n",
      "\u001b[1;31mNameError\u001b[0m: name 'List' is not defined"
     ]
    }
   ],
   "source": [
    "class Coordinate:\n",
    "    def __init__(self, x: int, y: int):\n",
    "        self.position = (x, y)\n",
    "        self.goal = (164, 79)\n",
    "        self.predecessor = None\n",
    "\n",
    "    def __repr__(self):\n",
    "        return f\"[{self.position[0]}, {self.position[1]}]\"\n",
    "\n",
    "    def __eq__(self, other):\n",
    "        return self.position == other.position\n",
    "\n",
    "    def __hash__(self):\n",
    "        return hash(self.position)\n",
    "\n",
    "    def is_goal(self) -> bool:\n",
    "        return self.position == self.goal\n",
    "\n",
    "    def dist_from_goal(self) -> float:\n",
    "        return math.sqrt((self.goal[0] - self.position[0]) ** 2 + (self.goal[1] - self.position[1]) ** 2)\n",
    "\n",
    "    def set_predecessor(self, predecessor):\n",
    "        self.predecessor = predecessor\n",
    "\n",
    "    def get_predecessor(self):\n",
    "        return self.predecessor\n",
    "\n",
    "class CoordinateSuccessorFunction:\n",
    "    def __init__(self):\n",
    "        self.coordinates = [\n",
    "            Coordinate(16, 22), Coordinate(25, 28), Coordinate(25, 7), Coordinate(85, 28),\n",
    "            Coordinate(85, 7), Coordinate(42, 83), Coordinate(24, 67), Coordinate(25, 45),\n",
    "            Coordinate(45, 39), Coordinate(55, 62), Coordinate(69, 65), Coordinate(60, 34),\n",
    "            Coordinate(77, 34), Coordinate(77, 81), Coordinate(91, 83), Coordinate(103, 70),\n",
    "            Coordinate(80, 58), Coordinate(90, 45), Coordinate(95, 12), Coordinate(110, 26),\n",
    "            Coordinate(103, 80), Coordinate(138, 80), Coordinate(103, 35), Coordinate(138, 35),\n",
    "            Coordinate(125, 22), Coordinate(140, 29), Coordinate(153, 22), Coordinate(153, 6),\n",
    "            Coordinate(140, 3), Coordinate(125, 6), Coordinate(145, 74), Coordinate(154, 80),\n",
    "            Coordinate(159, 72), Coordinate(155, 29), Coordinate(164, 79)\n",
    "        ]\n",
    "\n",
    "    def get_successors(self, current_state: Coordinate) -> List[Coordinate]:\n",
    "        successors = []\n",
    "        for coord in self.coordinates:\n",
    "            if self.are_neighbors(current_state, coord):\n",
    "                successors.append(coord)\n",
    "        return successors\n",
    "\n",
    "    @staticmethod\n",
    "    def are_neighbors(coord1: Coordinate, coord2: Coordinate) -> bool:\n",
    "        return abs(coord1.position[0] - coord2.position[0]) <= 1 and abs(coord1.position[1] - coord2.position[1]) <= 1\n",
    "\n",
    "def uniform_cost_search(start_state: Coordinate) -> List[Coordinate]:\n",
    "    open_set = deque([start_state])\n",
    "    closed_set = set()\n",
    "\n",
    "    while open_set:\n",
    "        current_state = open_set.popleft()\n",
    "        if current_state.is_goal():\n",
    "            print(\"Success: Goal found\")\n",
    "            print(current_state)\n",
    "            return reconstruct_path(current_state)\n",
    "\n",
    "        closed_set.add(current_state)\n",
    "\n",
    "        successor_function = CoordinateSuccessorFunction()\n",
    "        successors = successor_function.get_successors(current_state)\n",
    "\n",
    "        for successor in successors:\n",
    "            if successor not in closed_set and successor not in open_set:\n",
    "                open_set.append(successor)\n",
    "                successor.set_predecessor(current_state)\n",
    "\n",
    "    print(\"Failed to Search\")\n",
    "    return []\n",
    "\n",
    "def reconstruct_path(goal_state: Coordinate) -> List[Coordinate]:\n",
    "    path = []\n",
    "    current = goal_state\n",
    "    while current is not None:\n",
    "        path.append(current)\n",
    "        current = current.get_predecessor()\n",
    "    path.reverse()\n",
    "    return path\n",
    "\n",
    "def main():\n",
    "    start_state = Coordinate(16, 22)\n",
    "    path = uniform_cost_search(start_state)\n",
    "\n",
    "    if path:\n",
    "        print(\"Search path:\")\n",
    "        for coord in path:\n",
    "            print(coord, end=\" \")\n",
    "        print(f\"\\nThe length of the path is: {sum(path[i].dist_from_goal() for i in range(len(path) - 1))}\")\n",
    "\n",
    "if __name__ == \"__main__\":\n",
    "    main()"
   ]
  },
  {
   "cell_type": "markdown",
   "metadata": {},
   "source": [
    "4. Apply one or more of the algorithms in this chapter to solve a range of problems in the domain, and comment on their performance."
   ]
  },
  {
   "cell_type": "code",
   "execution_count": null,
   "metadata": {},
   "outputs": [],
   "source": []
  },
  {
   "cell_type": "markdown",
   "metadata": {},
   "source": [
    "# Problem 3.9\n",
    "## Missionaries and Cannibals problem"
   ]
  },
  {
   "cell_type": "markdown",
   "metadata": {},
   "source": [
    "1. Formulate the problem precisely, making only those distinctions necessary to ensure a valid solution. Draw a diagram of the complete state space. "
   ]
  },
  {
   "cell_type": "markdown",
   "metadata": {},
   "source": [
    "Initial State: Three missionaries, three cannibals, and the boat are on the left bank of the river.\n",
    " \n",
    "Goal State: All three missionaries and three cannibals are on the right bank of the river.\n",
    " \n",
    "Operators: The boat can carry one or two people from one bank to the other. The boat cannot move by itself.\n",
    " \n",
    "Constraints: At no point should the number of cannibals on a specific bank outnumber the number of missionaries on that same bank. Otherwise, the cannibals will eat the missionaries.\n",
    " \n",
    "State Space Diagram:\n",
    " \n",
    "Explanation:\n",
    "Here's a simplified representation of the state space:\n",
    " \n",
    "Initial State: (3M, 3C, L)  --> (3M, 3C, R) : Goal State\n",
    " \n",
    "L: Left Bank\n",
    "R: Right Bank\n",
    " \n",
    "Operators:\n",
    "1. CC: Two cannibals cross from left to right.\n",
    "2. C: One cannibal crosses from right to left.\n",
    "3. MC: One missionary and one cannibal cross from left to right.\n",
    "4. C: One cannibal crosses from right to left.\n",
    "5. MC: One missionary and one cannibal cross from left to right.\n",
    "6. C: One cannibal crosses from right to left.\n",
    "7. CC: Two cannibals cross from left to right.\n",
    "8. C: One cannibal crosses from right to left.\n",
    "9. MC: One missionary and one cannibal cross from left to right."
   ]
  },
  {
   "cell_type": "markdown",
   "metadata": {},
   "source": [
    "2. Implement and solve the problem optimally using an appropriate search algorithm. Is it a good idea to check for repeated states? "
   ]
  },
  {
   "cell_type": "markdown",
   "metadata": {},
   "source": [
    "This problem can be optimally solved using a search algorithm such as Breadth-First Search (BFS) or Depth-First Search (DFS). BFS is often preferred because it guarantees the shortest path to the solution.\n",
    " \n",
    "Checking for repeated states is essential to avoid infinite loops in the search process. Repeated states can occur when the same configuration of missionaries, cannibals, and boat positions is reached, thus creating an infinite back and forth.\n",
    " \n",
    "To solve the Missionaries and Cannibals problem optimally, we'll use the Breadth-First Search (BFS) algorithm. BFS ensures that we find the shortest path to the goal state while avoiding any repeated states.\n",
    " \n",
    "Here's a Python implementation:\n",
    " \n"
   ]
  },
  {
   "cell_type": "code",
   "execution_count": 5,
   "metadata": {},
   "outputs": [
    {
     "name": "stdout",
     "output_type": "stream",
     "text": [
      "Step 1: ((3, 1), (0, 2), 1)\n",
      "Step 2: ((3, 2), (0, 1), 0)\n",
      "Step 3: ((3, 0), (0, 3), 1)\n",
      "Step 4: ((3, 1), (0, 2), 0)\n",
      "Step 5: ((1, 1), (2, 2), 1)\n",
      "Step 6: ((2, 2), (1, 1), 0)\n",
      "Step 7: ((0, 2), (3, 1), 1)\n",
      "Step 8: ((0, 3), (3, 0), 0)\n",
      "Step 9: ((0, 1), (3, 2), 1)\n",
      "Step 10: ((1, 1), (2, 2), 0)\n",
      "Step 11: ((0, 0), (3, 3), 1)\n"
     ]
    }
   ],
   "source": [
    "from collections import deque\n",
    "\n",
    "# Variables\n",
    "m = 3\n",
    "c = 3\n",
    "\n",
    "# Define the initial state and goal state\n",
    "goal_state = ((0, 0), (m, c), 1)  # (Missionaries on left, Cannibals on left, Boat position)\n",
    "initial_state = ((m, c), (0, 0), 0)  # (Missionaries on left, Cannibals on left, Boat position)\n",
    "\n",
    "# Define a function to check if a state is valid\n",
    "def is_valid(state):\n",
    "    left, right, boat = state\n",
    "    if left[0] < 0 or left[1] < 0 or right[0] < 0 or right[1] < 0:\n",
    "        return False\n",
    "    if left[0] < left[1] and left[0] > 0:  # More cannibals than missionaries on the left bank\n",
    "        return False\n",
    "    if right[0] < right[1] and right[0] > 0:  # More cannibals than missionaries on the right bank\n",
    "        return False\n",
    "    return True\n",
    "\n",
    "# Define a function to generate next possible states\n",
    "def generate_next_states(state):\n",
    "    left, right, boat = state\n",
    "    possible_states = []\n",
    "\n",
    "    # Define the possible moves\n",
    "    moves = [(2, 0), (0, 2), (1, 1), (1, 0), (0, 1)]\n",
    "\n",
    "    for move in moves:\n",
    "        if boat == 0:\n",
    "            new_left = (left[0] - move[0], left[1] - move[1])\n",
    "            new_right = (right[0] + move[0], right[1] + move[1])\n",
    "        else:\n",
    "            new_left = (left[0] + move[0], left[1] + move[1])\n",
    "            new_right = (right[0] - move[0], right[1] - move[1])\n",
    "\n",
    "        new_state = (new_left, new_right, 1 - boat)\n",
    "        if is_valid(new_state):\n",
    "            possible_states.append(new_state)\n",
    "    return possible_states\n",
    "\n",
    "# Define the BFS function to find the solution\n",
    "def bfs(initial_state, goal_state):\n",
    "    visited = set()\n",
    "    queue = deque([(initial_state, [])])\n",
    "\n",
    "    while queue:\n",
    "        state, path = queue.popleft()\n",
    "        visited.add(tuple(state))  # Convert the state to a tuple before adding to set\n",
    "\n",
    "        if state == goal_state:\n",
    "            return path\n",
    "\n",
    "        for next_state in generate_next_states(state):\n",
    "            if tuple(next_state) not in visited:  # Convert the next_state to a tuple for comparison\n",
    "                queue.append((next_state, path + [next_state]))\n",
    "\n",
    "    return None\n",
    "\n",
    "# Find and print the optimal solution\n",
    "optimal_path = bfs(initial_state, goal_state)\n",
    "if optimal_path:\n",
    "    for step, state in enumerate(optimal_path):\n",
    "        print(f\"Step {step + 1}: {state}\")\n",
    "else:\n",
    "    print(\"No solution found.\")"
   ]
  },
  {
   "cell_type": "markdown",
   "metadata": {},
   "source": [
    "This code uses BFS to find the optimal path from the initial state to the goal state while avoiding repeated states. It checks the validity of states, generates next possible states, and maintains a queue to explore the state space.\n",
    " \n",
    "Checking for repeated states is crucial to avoid infinite loops, as the problem space can lead to revisiting the same states.\n",
    " \n",
    "When you run the code, it will print the steps required to move the missionaries and cannibals from the initial state to the goal state while adhering to the rules of the puzzle."
   ]
  },
  {
   "cell_type": "markdown",
   "metadata": {},
   "source": [
    "3. Why do you think people have a hard time solving this puzzle, given that the state space is so simple? "
   ]
  },
  {
   "cell_type": "markdown",
   "metadata": {},
   "source": [
    "People often find this puzzle challenging because it involves a complex interplay of multiple constraints: maintaining the safety of the missionaries, preventing the cannibals from outnumbering the missionaries on either side and efficiently using the boat's capacity.\n",
    " \n",
    "While the state space itself is simple to represent, the constraints and the need for a valid solution make it a non-trivial problem to solve manually. This puzzle requires careful planning and adherence to the defined rules to find a solution without violating any constraints.\n",
    "\n",
    "In summary, the simplicity of the state space masks the complexity of the constraints and rules involved, making the missionaries and cannibals problem a classic puzzle in artificial intelligence and problem-solving."
   ]
  }
 ],
 "metadata": {
  "kernelspec": {
   "display_name": "Python 3",
   "language": "python",
   "name": "python3"
  },
  "language_info": {
   "codemirror_mode": {
    "name": "ipython",
    "version": 3
   },
   "file_extension": ".py",
   "mimetype": "text/x-python",
   "name": "python",
   "nbconvert_exporter": "python",
   "pygments_lexer": "ipython3",
   "version": "3.12.2"
  }
 },
 "nbformat": 4,
 "nbformat_minor": 2
}
