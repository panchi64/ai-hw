{
 "cells": [
  {
   "metadata": {},
   "cell_type": "markdown",
   "source": "# Hi-Lo Card Game",
   "id": "cfe9b62b62d14905"
  },
  {
   "metadata": {},
   "cell_type": "code",
   "outputs": [],
   "execution_count": null,
   "source": [
    "import random\n",
    "\n",
    "class HiLoGame:\n",
    "    def __init__(self, num_decks=1):\n",
    "        self.num_decks = num_decks\n",
    "        self.deck = self.create_deck()\n",
    "        self.current_card = None\n",
    "\n",
    "    def create_deck(self):\n",
    "        suits = ['Hearts', 'Diamonds', 'Clubs', 'Spades']\n",
    "        ranks = ['2', '3', '4', '5', '6', '7', '8', '9', '10', 'Jack', 'Queen', 'King', 'Ace']\n",
    "        deck = [(rank, suit) for suit in suits for rank in ranks] * self.num_decks\n",
    "        random.shuffle(deck)\n",
    "        return deck\n",
    "\n",
    "    def draw_card(self):\n",
    "        if len(self.deck) > 0:\n",
    "            self.current_card = self.deck.pop()\n",
    "            return self.current_card\n",
    "        else:\n",
    "            return None\n",
    "\n",
    "    def compare_cards(self, card1, card2):\n",
    "        ranks = ['Ace', '2', '3', '4', '5', '6', '7', '8', '9', '10', 'Jack', 'Queen', 'King']\n",
    "        return ranks.index(card1[0]) < ranks.index(card2[0])\n",
    "\n",
    "    def play(self, agent):\n",
    "        score = 0\n",
    "        self.current_card = self.draw_card()\n",
    "\n",
    "        while self.current_card is not None:\n",
    "            print(f\"Current card: {self.current_card}\")\n",
    "            guess = agent.make_guess(self.current_card)\n",
    "            next_card = self.draw_card()\n",
    "\n",
    "            if next_card is None:\n",
    "                break\n",
    "\n",
    "            print(f\"Next card: {next_card}\")\n",
    "\n",
    "            if (guess == 'h' and self.compare_cards(self.current_card, next_card)) or \\\n",
    "               (guess == 'l' and not self.compare_cards(self.current_card, next_card)):\n",
    "                score += 1\n",
    "                print(\"Correct guess!\")\n",
    "            else:\n",
    "                print(\"Incorrect guess.\")\n",
    "                break\n",
    "\n",
    "            self.current_card = next_card\n",
    "\n",
    "        print(f\"Game over. Final score: {score}\")\n",
    "        return score"
   ],
   "id": "initial_id"
  },
  {
   "metadata": {},
   "cell_type": "markdown",
   "source": "## Agents",
   "id": "dd067bfa7b195083"
  },
  {
   "metadata": {},
   "cell_type": "code",
   "outputs": [],
   "execution_count": null,
   "source": [
    "class RandomAgent:\n",
    "    def make_guess(self, current_card):\n",
    "        return random.choice(['h', 'l'])"
   ],
   "id": "a78e03dfbf229eed"
  },
  {
   "metadata": {},
   "cell_type": "markdown",
   "source": "## Playing the game",
   "id": "b8b6cd58b53ed5df"
  },
  {
   "metadata": {},
   "cell_type": "code",
   "outputs": [],
   "execution_count": null,
   "source": [
    "if __name__ == \"__main__\":\n",
    "    game = HiLoGame()\n",
    "    agent = RandomAgent()\n",
    "    game.play(agent)"
   ],
   "id": "98b37200124c8d51"
  }
 ],
 "metadata": {
  "kernelspec": {
   "display_name": "Python 3",
   "language": "python",
   "name": "python3"
  },
  "language_info": {
   "codemirror_mode": {
    "name": "ipython",
    "version": 2
   },
   "file_extension": ".py",
   "mimetype": "text/x-python",
   "name": "python",
   "nbconvert_exporter": "python",
   "pygments_lexer": "ipython2",
   "version": "2.7.6"
  }
 },
 "nbformat": 4,
 "nbformat_minor": 5
}
